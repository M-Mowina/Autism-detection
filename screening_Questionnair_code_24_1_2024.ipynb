{
  "cells": [
    {
      "cell_type": "code",
      "execution_count": 1,
      "metadata": {},
      "outputs": [
        {
          "name": "stdout",
          "output_type": "stream",
          "text": [
            "Requirement already satisfied: plotly_express in c:\\users\\mohamed mowina\\anaconda3\\envs\\nngpu\\lib\\site-packages (0.4.1)\n",
            "Requirement already satisfied: pandas>=0.20.0 in c:\\users\\mohamed mowina\\anaconda3\\envs\\nngpu\\lib\\site-packages (from plotly_express) (2.2.2)\n",
            "Requirement already satisfied: plotly>=4.1.0 in c:\\users\\mohamed mowina\\anaconda3\\envs\\nngpu\\lib\\site-packages (from plotly_express) (5.22.0)\n",
            "Requirement already satisfied: statsmodels>=0.9.0 in c:\\users\\mohamed mowina\\anaconda3\\envs\\nngpu\\lib\\site-packages (from plotly_express) (0.14.2)\n",
            "Requirement already satisfied: scipy>=0.18 in c:\\users\\mohamed mowina\\anaconda3\\envs\\nngpu\\lib\\site-packages (from plotly_express) (1.10.1)\n",
            "Requirement already satisfied: patsy>=0.5 in c:\\users\\mohamed mowina\\anaconda3\\envs\\nngpu\\lib\\site-packages (from plotly_express) (0.5.6)\n",
            "Requirement already satisfied: numpy>=1.11 in c:\\users\\mohamed mowina\\anaconda3\\envs\\nngpu\\lib\\site-packages (from plotly_express) (1.26.4)\n",
            "Requirement already satisfied: python-dateutil>=2.8.2 in c:\\users\\mohamed mowina\\anaconda3\\envs\\nngpu\\lib\\site-packages (from pandas>=0.20.0->plotly_express) (2.8.2)\n",
            "Requirement already satisfied: pytz>=2020.1 in c:\\users\\mohamed mowina\\anaconda3\\envs\\nngpu\\lib\\site-packages (from pandas>=0.20.0->plotly_express) (2023.3.post1)\n",
            "Requirement already satisfied: tzdata>=2022.7 in c:\\users\\mohamed mowina\\anaconda3\\envs\\nngpu\\lib\\site-packages (from pandas>=0.20.0->plotly_express) (2024.1)\n",
            "Requirement already satisfied: six in c:\\users\\mohamed mowina\\anaconda3\\envs\\nngpu\\lib\\site-packages (from patsy>=0.5->plotly_express) (1.16.0)\n",
            "Requirement already satisfied: tenacity>=6.2.0 in c:\\users\\mohamed mowina\\anaconda3\\envs\\nngpu\\lib\\site-packages (from plotly>=4.1.0->plotly_express) (8.3.0)\n",
            "Requirement already satisfied: packaging in c:\\users\\mohamed mowina\\anaconda3\\envs\\nngpu\\lib\\site-packages (from plotly>=4.1.0->plotly_express) (23.2)\n",
            "Note: you may need to restart the kernel to use updated packages.\n"
          ]
        }
      ],
      "source": [
        "pip install plotly_express\n"
      ]
    },
    {
      "cell_type": "code",
      "execution_count": 2,
      "metadata": {
        "colab": {
          "background_save": true
        },
        "id": "jOBR1IOpOhr9"
      },
      "outputs": [],
      "source": [
        "import pandas as pd\n",
        "import numpy as np\n",
        "import plotly.express as px\n",
        "import matplotlib.pyplot as plt\n",
        "import seaborn as sns\n",
        "from sklearn import metrics\n",
        "from tensorflow.keras.utils import plot_model"
      ]
    },
    {
      "cell_type": "code",
      "execution_count": 3,
      "metadata": {
        "colab": {
          "background_save": true,
          "base_uri": "https://localhost:8080/",
          "height": 617
        },
        "id": "2xZWInRePrf9",
        "outputId": "b3759948-698f-44ec-950a-2bf629dae461"
      },
      "outputs": [
        {
          "data": {
            "text/html": [
              "<div>\n",
              "<style scoped>\n",
              "    .dataframe tbody tr th:only-of-type {\n",
              "        vertical-align: middle;\n",
              "    }\n",
              "\n",
              "    .dataframe tbody tr th {\n",
              "        vertical-align: top;\n",
              "    }\n",
              "\n",
              "    .dataframe thead th {\n",
              "        text-align: right;\n",
              "    }\n",
              "</style>\n",
              "<table border=\"1\" class=\"dataframe\">\n",
              "  <thead>\n",
              "    <tr style=\"text-align: right;\">\n",
              "      <th></th>\n",
              "      <th>A1_Score</th>\n",
              "      <th>A2_Score</th>\n",
              "      <th>A3_Score</th>\n",
              "      <th>A4_Score</th>\n",
              "      <th>A5_Score</th>\n",
              "      <th>A6_Score</th>\n",
              "      <th>A7_Score</th>\n",
              "      <th>A8_Score</th>\n",
              "      <th>A9_Score</th>\n",
              "      <th>A10_Score</th>\n",
              "      <th>...</th>\n",
              "      <th>gender</th>\n",
              "      <th>ethnicity</th>\n",
              "      <th>jundice</th>\n",
              "      <th>austim</th>\n",
              "      <th>contry_of_res</th>\n",
              "      <th>used_app_before</th>\n",
              "      <th>result</th>\n",
              "      <th>age_desc</th>\n",
              "      <th>relation</th>\n",
              "      <th>Class/ASD</th>\n",
              "    </tr>\n",
              "  </thead>\n",
              "  <tbody>\n",
              "    <tr>\n",
              "      <th>0</th>\n",
              "      <td>1</td>\n",
              "      <td>1</td>\n",
              "      <td>0</td>\n",
              "      <td>0</td>\n",
              "      <td>1</td>\n",
              "      <td>1</td>\n",
              "      <td>0</td>\n",
              "      <td>1</td>\n",
              "      <td>0</td>\n",
              "      <td>0</td>\n",
              "      <td>...</td>\n",
              "      <td>m</td>\n",
              "      <td>Others</td>\n",
              "      <td>no</td>\n",
              "      <td>no</td>\n",
              "      <td>Jordan</td>\n",
              "      <td>no</td>\n",
              "      <td>5</td>\n",
              "      <td>'4-11 years'</td>\n",
              "      <td>Parent</td>\n",
              "      <td>NO</td>\n",
              "    </tr>\n",
              "    <tr>\n",
              "      <th>1</th>\n",
              "      <td>1</td>\n",
              "      <td>1</td>\n",
              "      <td>0</td>\n",
              "      <td>0</td>\n",
              "      <td>1</td>\n",
              "      <td>1</td>\n",
              "      <td>0</td>\n",
              "      <td>1</td>\n",
              "      <td>0</td>\n",
              "      <td>0</td>\n",
              "      <td>...</td>\n",
              "      <td>m</td>\n",
              "      <td>'Middle Eastern '</td>\n",
              "      <td>no</td>\n",
              "      <td>no</td>\n",
              "      <td>Jordan</td>\n",
              "      <td>no</td>\n",
              "      <td>5</td>\n",
              "      <td>'4-11 years'</td>\n",
              "      <td>Parent</td>\n",
              "      <td>NO</td>\n",
              "    </tr>\n",
              "    <tr>\n",
              "      <th>2</th>\n",
              "      <td>1</td>\n",
              "      <td>1</td>\n",
              "      <td>0</td>\n",
              "      <td>0</td>\n",
              "      <td>0</td>\n",
              "      <td>1</td>\n",
              "      <td>1</td>\n",
              "      <td>1</td>\n",
              "      <td>0</td>\n",
              "      <td>0</td>\n",
              "      <td>...</td>\n",
              "      <td>m</td>\n",
              "      <td>?</td>\n",
              "      <td>no</td>\n",
              "      <td>no</td>\n",
              "      <td>Jordan</td>\n",
              "      <td>yes</td>\n",
              "      <td>5</td>\n",
              "      <td>'4-11 years'</td>\n",
              "      <td>?</td>\n",
              "      <td>NO</td>\n",
              "    </tr>\n",
              "    <tr>\n",
              "      <th>3</th>\n",
              "      <td>0</td>\n",
              "      <td>1</td>\n",
              "      <td>0</td>\n",
              "      <td>0</td>\n",
              "      <td>1</td>\n",
              "      <td>1</td>\n",
              "      <td>0</td>\n",
              "      <td>0</td>\n",
              "      <td>0</td>\n",
              "      <td>1</td>\n",
              "      <td>...</td>\n",
              "      <td>f</td>\n",
              "      <td>?</td>\n",
              "      <td>yes</td>\n",
              "      <td>no</td>\n",
              "      <td>Jordan</td>\n",
              "      <td>no</td>\n",
              "      <td>4</td>\n",
              "      <td>'4-11 years'</td>\n",
              "      <td>?</td>\n",
              "      <td>NO</td>\n",
              "    </tr>\n",
              "    <tr>\n",
              "      <th>4</th>\n",
              "      <td>1</td>\n",
              "      <td>1</td>\n",
              "      <td>1</td>\n",
              "      <td>1</td>\n",
              "      <td>1</td>\n",
              "      <td>1</td>\n",
              "      <td>1</td>\n",
              "      <td>1</td>\n",
              "      <td>1</td>\n",
              "      <td>1</td>\n",
              "      <td>...</td>\n",
              "      <td>m</td>\n",
              "      <td>Others</td>\n",
              "      <td>yes</td>\n",
              "      <td>no</td>\n",
              "      <td>'United States'</td>\n",
              "      <td>no</td>\n",
              "      <td>10</td>\n",
              "      <td>'4-11 years'</td>\n",
              "      <td>Parent</td>\n",
              "      <td>YES</td>\n",
              "    </tr>\n",
              "    <tr>\n",
              "      <th>...</th>\n",
              "      <td>...</td>\n",
              "      <td>...</td>\n",
              "      <td>...</td>\n",
              "      <td>...</td>\n",
              "      <td>...</td>\n",
              "      <td>...</td>\n",
              "      <td>...</td>\n",
              "      <td>...</td>\n",
              "      <td>...</td>\n",
              "      <td>...</td>\n",
              "      <td>...</td>\n",
              "      <td>...</td>\n",
              "      <td>...</td>\n",
              "      <td>...</td>\n",
              "      <td>...</td>\n",
              "      <td>...</td>\n",
              "      <td>...</td>\n",
              "      <td>...</td>\n",
              "      <td>...</td>\n",
              "      <td>...</td>\n",
              "      <td>...</td>\n",
              "    </tr>\n",
              "    <tr>\n",
              "      <th>287</th>\n",
              "      <td>1</td>\n",
              "      <td>1</td>\n",
              "      <td>1</td>\n",
              "      <td>1</td>\n",
              "      <td>1</td>\n",
              "      <td>1</td>\n",
              "      <td>1</td>\n",
              "      <td>1</td>\n",
              "      <td>1</td>\n",
              "      <td>1</td>\n",
              "      <td>...</td>\n",
              "      <td>f</td>\n",
              "      <td>White-European</td>\n",
              "      <td>yes</td>\n",
              "      <td>yes</td>\n",
              "      <td>'United Kingdom'</td>\n",
              "      <td>no</td>\n",
              "      <td>10</td>\n",
              "      <td>'4-11 years'</td>\n",
              "      <td>Parent</td>\n",
              "      <td>YES</td>\n",
              "    </tr>\n",
              "    <tr>\n",
              "      <th>288</th>\n",
              "      <td>1</td>\n",
              "      <td>0</td>\n",
              "      <td>0</td>\n",
              "      <td>0</td>\n",
              "      <td>1</td>\n",
              "      <td>0</td>\n",
              "      <td>1</td>\n",
              "      <td>0</td>\n",
              "      <td>0</td>\n",
              "      <td>1</td>\n",
              "      <td>...</td>\n",
              "      <td>f</td>\n",
              "      <td>White-European</td>\n",
              "      <td>yes</td>\n",
              "      <td>yes</td>\n",
              "      <td>Australia</td>\n",
              "      <td>no</td>\n",
              "      <td>4</td>\n",
              "      <td>'4-11 years'</td>\n",
              "      <td>Parent</td>\n",
              "      <td>NO</td>\n",
              "    </tr>\n",
              "    <tr>\n",
              "      <th>289</th>\n",
              "      <td>1</td>\n",
              "      <td>0</td>\n",
              "      <td>1</td>\n",
              "      <td>1</td>\n",
              "      <td>1</td>\n",
              "      <td>1</td>\n",
              "      <td>1</td>\n",
              "      <td>0</td>\n",
              "      <td>0</td>\n",
              "      <td>1</td>\n",
              "      <td>...</td>\n",
              "      <td>m</td>\n",
              "      <td>Latino</td>\n",
              "      <td>no</td>\n",
              "      <td>no</td>\n",
              "      <td>Brazil</td>\n",
              "      <td>no</td>\n",
              "      <td>7</td>\n",
              "      <td>'4-11 years'</td>\n",
              "      <td>Parent</td>\n",
              "      <td>YES</td>\n",
              "    </tr>\n",
              "    <tr>\n",
              "      <th>290</th>\n",
              "      <td>1</td>\n",
              "      <td>1</td>\n",
              "      <td>1</td>\n",
              "      <td>0</td>\n",
              "      <td>1</td>\n",
              "      <td>1</td>\n",
              "      <td>1</td>\n",
              "      <td>1</td>\n",
              "      <td>1</td>\n",
              "      <td>1</td>\n",
              "      <td>...</td>\n",
              "      <td>m</td>\n",
              "      <td>'South Asian'</td>\n",
              "      <td>no</td>\n",
              "      <td>no</td>\n",
              "      <td>India</td>\n",
              "      <td>no</td>\n",
              "      <td>9</td>\n",
              "      <td>'4-11 years'</td>\n",
              "      <td>Parent</td>\n",
              "      <td>YES</td>\n",
              "    </tr>\n",
              "    <tr>\n",
              "      <th>291</th>\n",
              "      <td>0</td>\n",
              "      <td>0</td>\n",
              "      <td>1</td>\n",
              "      <td>0</td>\n",
              "      <td>1</td>\n",
              "      <td>0</td>\n",
              "      <td>1</td>\n",
              "      <td>0</td>\n",
              "      <td>0</td>\n",
              "      <td>0</td>\n",
              "      <td>...</td>\n",
              "      <td>f</td>\n",
              "      <td>'South Asian'</td>\n",
              "      <td>no</td>\n",
              "      <td>no</td>\n",
              "      <td>India</td>\n",
              "      <td>no</td>\n",
              "      <td>3</td>\n",
              "      <td>'4-11 years'</td>\n",
              "      <td>Parent</td>\n",
              "      <td>NO</td>\n",
              "    </tr>\n",
              "  </tbody>\n",
              "</table>\n",
              "<p>292 rows × 21 columns</p>\n",
              "</div>"
            ],
            "text/plain": [
              "     A1_Score  A2_Score  A3_Score  A4_Score  A5_Score  A6_Score  A7_Score  \\\n",
              "0           1         1         0         0         1         1         0   \n",
              "1           1         1         0         0         1         1         0   \n",
              "2           1         1         0         0         0         1         1   \n",
              "3           0         1         0         0         1         1         0   \n",
              "4           1         1         1         1         1         1         1   \n",
              "..        ...       ...       ...       ...       ...       ...       ...   \n",
              "287         1         1         1         1         1         1         1   \n",
              "288         1         0         0         0         1         0         1   \n",
              "289         1         0         1         1         1         1         1   \n",
              "290         1         1         1         0         1         1         1   \n",
              "291         0         0         1         0         1         0         1   \n",
              "\n",
              "     A8_Score  A9_Score  A10_Score  ... gender          ethnicity jundice  \\\n",
              "0           1         0          0  ...      m             Others      no   \n",
              "1           1         0          0  ...      m  'Middle Eastern '      no   \n",
              "2           1         0          0  ...      m                  ?      no   \n",
              "3           0         0          1  ...      f                  ?     yes   \n",
              "4           1         1          1  ...      m             Others     yes   \n",
              "..        ...       ...        ...  ...    ...                ...     ...   \n",
              "287         1         1          1  ...      f     White-European     yes   \n",
              "288         0         0          1  ...      f     White-European     yes   \n",
              "289         0         0          1  ...      m             Latino      no   \n",
              "290         1         1          1  ...      m      'South Asian'      no   \n",
              "291         0         0          0  ...      f      'South Asian'      no   \n",
              "\n",
              "    austim     contry_of_res used_app_before result      age_desc relation  \\\n",
              "0       no            Jordan              no      5  '4-11 years'   Parent   \n",
              "1       no            Jordan              no      5  '4-11 years'   Parent   \n",
              "2       no            Jordan             yes      5  '4-11 years'        ?   \n",
              "3       no            Jordan              no      4  '4-11 years'        ?   \n",
              "4       no   'United States'              no     10  '4-11 years'   Parent   \n",
              "..     ...               ...             ...    ...           ...      ...   \n",
              "287    yes  'United Kingdom'              no     10  '4-11 years'   Parent   \n",
              "288    yes         Australia              no      4  '4-11 years'   Parent   \n",
              "289     no            Brazil              no      7  '4-11 years'   Parent   \n",
              "290     no             India              no      9  '4-11 years'   Parent   \n",
              "291     no             India              no      3  '4-11 years'   Parent   \n",
              "\n",
              "    Class/ASD  \n",
              "0          NO  \n",
              "1          NO  \n",
              "2          NO  \n",
              "3          NO  \n",
              "4         YES  \n",
              "..        ...  \n",
              "287       YES  \n",
              "288        NO  \n",
              "289       YES  \n",
              "290       YES  \n",
              "291        NO  \n",
              "\n",
              "[292 rows x 21 columns]"
            ]
          },
          "execution_count": 3,
          "metadata": {},
          "output_type": "execute_result"
        }
      ],
      "source": [
        "df = pd.read_csv('Autism-Child-Data.csv')\n",
        "df"
      ]
    },
    {
      "cell_type": "markdown",
      "metadata": {
        "id": "B_WFSsj75MDq"
      },
      "source": [
        "Data Preprocessing"
      ]
    },
    {
      "cell_type": "code",
      "execution_count": 4,
      "metadata": {
        "colab": {
          "base_uri": "https://localhost:8080/",
          "height": 497
        },
        "id": "sJaJk9fS3-Sa",
        "outputId": "ce640870-1d57-4808-a280-17a228b946a0"
      },
      "outputs": [
        {
          "data": {
            "application/vnd.plotly.v1+json": {
              "config": {
                "plotlyServerURL": "https://plot.ly"
              },
              "data": [
                {
                  "domain": {
                    "x": [
                      0,
                      1
                    ],
                    "y": [
                      0,
                      1
                    ]
                  },
                  "hole": 0.5,
                  "hovertemplate": "austim=%{label}<extra></extra>",
                  "labels": [
                    "no",
                    "no",
                    "no",
                    "no",
                    "no",
                    "yes",
                    "no",
                    "no",
                    "no",
                    "yes",
                    "no",
                    "no",
                    "no",
                    "no",
                    "no",
                    "no",
                    "no",
                    "no",
                    "yes",
                    "no",
                    "no",
                    "no",
                    "no",
                    "no",
                    "no",
                    "yes",
                    "no",
                    "no",
                    "yes",
                    "yes",
                    "no",
                    "no",
                    "no",
                    "no",
                    "no",
                    "no",
                    "no",
                    "no",
                    "no",
                    "no",
                    "no",
                    "no",
                    "no",
                    "no",
                    "no",
                    "no",
                    "no",
                    "no",
                    "no",
                    "yes",
                    "no",
                    "no",
                    "no",
                    "no",
                    "no",
                    "no",
                    "no",
                    "no",
                    "no",
                    "yes",
                    "no",
                    "no",
                    "no",
                    "no",
                    "no",
                    "no",
                    "no",
                    "no",
                    "yes",
                    "yes",
                    "no",
                    "no",
                    "no",
                    "no",
                    "yes",
                    "no",
                    "no",
                    "no",
                    "yes",
                    "no",
                    "no",
                    "yes",
                    "no",
                    "no",
                    "no",
                    "no",
                    "no",
                    "no",
                    "yes",
                    "no",
                    "no",
                    "yes",
                    "no",
                    "no",
                    "no",
                    "no",
                    "no",
                    "no",
                    "yes",
                    "yes",
                    "yes",
                    "no",
                    "no",
                    "no",
                    "yes",
                    "no",
                    "no",
                    "yes",
                    "no",
                    "no",
                    "no",
                    "no",
                    "no",
                    "no",
                    "no",
                    "no",
                    "no",
                    "no",
                    "no",
                    "yes",
                    "no",
                    "no",
                    "no",
                    "no",
                    "no",
                    "no",
                    "no",
                    "no",
                    "no",
                    "no",
                    "no",
                    "no",
                    "yes",
                    "no",
                    "yes",
                    "no",
                    "no",
                    "no",
                    "no",
                    "yes",
                    "no",
                    "no",
                    "no",
                    "no",
                    "no",
                    "no",
                    "no",
                    "no",
                    "no",
                    "no",
                    "yes",
                    "yes",
                    "no",
                    "no",
                    "no",
                    "no",
                    "no",
                    "yes",
                    "yes",
                    "no",
                    "no",
                    "no",
                    "yes",
                    "no",
                    "no",
                    "no",
                    "no",
                    "no",
                    "no",
                    "no",
                    "no",
                    "yes",
                    "no",
                    "no",
                    "no",
                    "no",
                    "no",
                    "no",
                    "no",
                    "no",
                    "no",
                    "no",
                    "no",
                    "no",
                    "no",
                    "no",
                    "no",
                    "no",
                    "no",
                    "yes",
                    "no",
                    "no",
                    "no",
                    "yes",
                    "no",
                    "no",
                    "no",
                    "no",
                    "no",
                    "yes",
                    "yes",
                    "yes",
                    "no",
                    "no",
                    "no",
                    "no",
                    "no",
                    "no",
                    "no",
                    "yes",
                    "yes",
                    "no",
                    "no",
                    "no",
                    "no",
                    "yes",
                    "no",
                    "yes",
                    "no",
                    "no",
                    "no",
                    "yes",
                    "no",
                    "no",
                    "no",
                    "no",
                    "no",
                    "no",
                    "no",
                    "no",
                    "no",
                    "no",
                    "no",
                    "no",
                    "no",
                    "no",
                    "no",
                    "no",
                    "no",
                    "yes",
                    "no",
                    "no",
                    "no",
                    "no",
                    "no",
                    "no",
                    "no",
                    "yes",
                    "no",
                    "no",
                    "no",
                    "no",
                    "no",
                    "no",
                    "no",
                    "no",
                    "yes",
                    "no",
                    "no",
                    "no",
                    "no",
                    "no",
                    "no",
                    "no",
                    "no",
                    "no",
                    "no",
                    "no",
                    "no",
                    "no",
                    "no",
                    "yes",
                    "no",
                    "yes",
                    "no",
                    "no",
                    "no",
                    "no",
                    "no",
                    "yes",
                    "yes",
                    "no",
                    "no",
                    "no",
                    "no",
                    "no",
                    "no",
                    "yes",
                    "yes",
                    "no",
                    "no",
                    "no"
                  ],
                  "legendgroup": "",
                  "name": "",
                  "showlegend": true,
                  "type": "pie"
                }
              ],
              "layout": {
                "height": 480,
                "legend": {
                  "tracegroupgap": 0
                },
                "piecolorway": [
                  "rgb(0,0,255)",
                  "rgb(255,0,0)"
                ],
                "template": {
                  "data": {
                    "bar": [
                      {
                        "error_x": {
                          "color": "#2a3f5f"
                        },
                        "error_y": {
                          "color": "#2a3f5f"
                        },
                        "marker": {
                          "line": {
                            "color": "#E5ECF6",
                            "width": 0.5
                          },
                          "pattern": {
                            "fillmode": "overlay",
                            "size": 10,
                            "solidity": 0.2
                          }
                        },
                        "type": "bar"
                      }
                    ],
                    "barpolar": [
                      {
                        "marker": {
                          "line": {
                            "color": "#E5ECF6",
                            "width": 0.5
                          },
                          "pattern": {
                            "fillmode": "overlay",
                            "size": 10,
                            "solidity": 0.2
                          }
                        },
                        "type": "barpolar"
                      }
                    ],
                    "carpet": [
                      {
                        "aaxis": {
                          "endlinecolor": "#2a3f5f",
                          "gridcolor": "white",
                          "linecolor": "white",
                          "minorgridcolor": "white",
                          "startlinecolor": "#2a3f5f"
                        },
                        "baxis": {
                          "endlinecolor": "#2a3f5f",
                          "gridcolor": "white",
                          "linecolor": "white",
                          "minorgridcolor": "white",
                          "startlinecolor": "#2a3f5f"
                        },
                        "type": "carpet"
                      }
                    ],
                    "choropleth": [
                      {
                        "colorbar": {
                          "outlinewidth": 0,
                          "ticks": ""
                        },
                        "type": "choropleth"
                      }
                    ],
                    "contour": [
                      {
                        "colorbar": {
                          "outlinewidth": 0,
                          "ticks": ""
                        },
                        "colorscale": [
                          [
                            0,
                            "#0d0887"
                          ],
                          [
                            0.1111111111111111,
                            "#46039f"
                          ],
                          [
                            0.2222222222222222,
                            "#7201a8"
                          ],
                          [
                            0.3333333333333333,
                            "#9c179e"
                          ],
                          [
                            0.4444444444444444,
                            "#bd3786"
                          ],
                          [
                            0.5555555555555556,
                            "#d8576b"
                          ],
                          [
                            0.6666666666666666,
                            "#ed7953"
                          ],
                          [
                            0.7777777777777778,
                            "#fb9f3a"
                          ],
                          [
                            0.8888888888888888,
                            "#fdca26"
                          ],
                          [
                            1,
                            "#f0f921"
                          ]
                        ],
                        "type": "contour"
                      }
                    ],
                    "contourcarpet": [
                      {
                        "colorbar": {
                          "outlinewidth": 0,
                          "ticks": ""
                        },
                        "type": "contourcarpet"
                      }
                    ],
                    "heatmap": [
                      {
                        "colorbar": {
                          "outlinewidth": 0,
                          "ticks": ""
                        },
                        "colorscale": [
                          [
                            0,
                            "#0d0887"
                          ],
                          [
                            0.1111111111111111,
                            "#46039f"
                          ],
                          [
                            0.2222222222222222,
                            "#7201a8"
                          ],
                          [
                            0.3333333333333333,
                            "#9c179e"
                          ],
                          [
                            0.4444444444444444,
                            "#bd3786"
                          ],
                          [
                            0.5555555555555556,
                            "#d8576b"
                          ],
                          [
                            0.6666666666666666,
                            "#ed7953"
                          ],
                          [
                            0.7777777777777778,
                            "#fb9f3a"
                          ],
                          [
                            0.8888888888888888,
                            "#fdca26"
                          ],
                          [
                            1,
                            "#f0f921"
                          ]
                        ],
                        "type": "heatmap"
                      }
                    ],
                    "heatmapgl": [
                      {
                        "colorbar": {
                          "outlinewidth": 0,
                          "ticks": ""
                        },
                        "colorscale": [
                          [
                            0,
                            "#0d0887"
                          ],
                          [
                            0.1111111111111111,
                            "#46039f"
                          ],
                          [
                            0.2222222222222222,
                            "#7201a8"
                          ],
                          [
                            0.3333333333333333,
                            "#9c179e"
                          ],
                          [
                            0.4444444444444444,
                            "#bd3786"
                          ],
                          [
                            0.5555555555555556,
                            "#d8576b"
                          ],
                          [
                            0.6666666666666666,
                            "#ed7953"
                          ],
                          [
                            0.7777777777777778,
                            "#fb9f3a"
                          ],
                          [
                            0.8888888888888888,
                            "#fdca26"
                          ],
                          [
                            1,
                            "#f0f921"
                          ]
                        ],
                        "type": "heatmapgl"
                      }
                    ],
                    "histogram": [
                      {
                        "marker": {
                          "pattern": {
                            "fillmode": "overlay",
                            "size": 10,
                            "solidity": 0.2
                          }
                        },
                        "type": "histogram"
                      }
                    ],
                    "histogram2d": [
                      {
                        "colorbar": {
                          "outlinewidth": 0,
                          "ticks": ""
                        },
                        "colorscale": [
                          [
                            0,
                            "#0d0887"
                          ],
                          [
                            0.1111111111111111,
                            "#46039f"
                          ],
                          [
                            0.2222222222222222,
                            "#7201a8"
                          ],
                          [
                            0.3333333333333333,
                            "#9c179e"
                          ],
                          [
                            0.4444444444444444,
                            "#bd3786"
                          ],
                          [
                            0.5555555555555556,
                            "#d8576b"
                          ],
                          [
                            0.6666666666666666,
                            "#ed7953"
                          ],
                          [
                            0.7777777777777778,
                            "#fb9f3a"
                          ],
                          [
                            0.8888888888888888,
                            "#fdca26"
                          ],
                          [
                            1,
                            "#f0f921"
                          ]
                        ],
                        "type": "histogram2d"
                      }
                    ],
                    "histogram2dcontour": [
                      {
                        "colorbar": {
                          "outlinewidth": 0,
                          "ticks": ""
                        },
                        "colorscale": [
                          [
                            0,
                            "#0d0887"
                          ],
                          [
                            0.1111111111111111,
                            "#46039f"
                          ],
                          [
                            0.2222222222222222,
                            "#7201a8"
                          ],
                          [
                            0.3333333333333333,
                            "#9c179e"
                          ],
                          [
                            0.4444444444444444,
                            "#bd3786"
                          ],
                          [
                            0.5555555555555556,
                            "#d8576b"
                          ],
                          [
                            0.6666666666666666,
                            "#ed7953"
                          ],
                          [
                            0.7777777777777778,
                            "#fb9f3a"
                          ],
                          [
                            0.8888888888888888,
                            "#fdca26"
                          ],
                          [
                            1,
                            "#f0f921"
                          ]
                        ],
                        "type": "histogram2dcontour"
                      }
                    ],
                    "mesh3d": [
                      {
                        "colorbar": {
                          "outlinewidth": 0,
                          "ticks": ""
                        },
                        "type": "mesh3d"
                      }
                    ],
                    "parcoords": [
                      {
                        "line": {
                          "colorbar": {
                            "outlinewidth": 0,
                            "ticks": ""
                          }
                        },
                        "type": "parcoords"
                      }
                    ],
                    "pie": [
                      {
                        "automargin": true,
                        "type": "pie"
                      }
                    ],
                    "scatter": [
                      {
                        "fillpattern": {
                          "fillmode": "overlay",
                          "size": 10,
                          "solidity": 0.2
                        },
                        "type": "scatter"
                      }
                    ],
                    "scatter3d": [
                      {
                        "line": {
                          "colorbar": {
                            "outlinewidth": 0,
                            "ticks": ""
                          }
                        },
                        "marker": {
                          "colorbar": {
                            "outlinewidth": 0,
                            "ticks": ""
                          }
                        },
                        "type": "scatter3d"
                      }
                    ],
                    "scattercarpet": [
                      {
                        "marker": {
                          "colorbar": {
                            "outlinewidth": 0,
                            "ticks": ""
                          }
                        },
                        "type": "scattercarpet"
                      }
                    ],
                    "scattergeo": [
                      {
                        "marker": {
                          "colorbar": {
                            "outlinewidth": 0,
                            "ticks": ""
                          }
                        },
                        "type": "scattergeo"
                      }
                    ],
                    "scattergl": [
                      {
                        "marker": {
                          "colorbar": {
                            "outlinewidth": 0,
                            "ticks": ""
                          }
                        },
                        "type": "scattergl"
                      }
                    ],
                    "scattermapbox": [
                      {
                        "marker": {
                          "colorbar": {
                            "outlinewidth": 0,
                            "ticks": ""
                          }
                        },
                        "type": "scattermapbox"
                      }
                    ],
                    "scatterpolar": [
                      {
                        "marker": {
                          "colorbar": {
                            "outlinewidth": 0,
                            "ticks": ""
                          }
                        },
                        "type": "scatterpolar"
                      }
                    ],
                    "scatterpolargl": [
                      {
                        "marker": {
                          "colorbar": {
                            "outlinewidth": 0,
                            "ticks": ""
                          }
                        },
                        "type": "scatterpolargl"
                      }
                    ],
                    "scatterternary": [
                      {
                        "marker": {
                          "colorbar": {
                            "outlinewidth": 0,
                            "ticks": ""
                          }
                        },
                        "type": "scatterternary"
                      }
                    ],
                    "surface": [
                      {
                        "colorbar": {
                          "outlinewidth": 0,
                          "ticks": ""
                        },
                        "colorscale": [
                          [
                            0,
                            "#0d0887"
                          ],
                          [
                            0.1111111111111111,
                            "#46039f"
                          ],
                          [
                            0.2222222222222222,
                            "#7201a8"
                          ],
                          [
                            0.3333333333333333,
                            "#9c179e"
                          ],
                          [
                            0.4444444444444444,
                            "#bd3786"
                          ],
                          [
                            0.5555555555555556,
                            "#d8576b"
                          ],
                          [
                            0.6666666666666666,
                            "#ed7953"
                          ],
                          [
                            0.7777777777777778,
                            "#fb9f3a"
                          ],
                          [
                            0.8888888888888888,
                            "#fdca26"
                          ],
                          [
                            1,
                            "#f0f921"
                          ]
                        ],
                        "type": "surface"
                      }
                    ],
                    "table": [
                      {
                        "cells": {
                          "fill": {
                            "color": "#EBF0F8"
                          },
                          "line": {
                            "color": "white"
                          }
                        },
                        "header": {
                          "fill": {
                            "color": "#C8D4E3"
                          },
                          "line": {
                            "color": "white"
                          }
                        },
                        "type": "table"
                      }
                    ]
                  },
                  "layout": {
                    "annotationdefaults": {
                      "arrowcolor": "#2a3f5f",
                      "arrowhead": 0,
                      "arrowwidth": 1
                    },
                    "autotypenumbers": "strict",
                    "coloraxis": {
                      "colorbar": {
                        "outlinewidth": 0,
                        "ticks": ""
                      }
                    },
                    "colorscale": {
                      "diverging": [
                        [
                          0,
                          "#8e0152"
                        ],
                        [
                          0.1,
                          "#c51b7d"
                        ],
                        [
                          0.2,
                          "#de77ae"
                        ],
                        [
                          0.3,
                          "#f1b6da"
                        ],
                        [
                          0.4,
                          "#fde0ef"
                        ],
                        [
                          0.5,
                          "#f7f7f7"
                        ],
                        [
                          0.6,
                          "#e6f5d0"
                        ],
                        [
                          0.7,
                          "#b8e186"
                        ],
                        [
                          0.8,
                          "#7fbc41"
                        ],
                        [
                          0.9,
                          "#4d9221"
                        ],
                        [
                          1,
                          "#276419"
                        ]
                      ],
                      "sequential": [
                        [
                          0,
                          "#0d0887"
                        ],
                        [
                          0.1111111111111111,
                          "#46039f"
                        ],
                        [
                          0.2222222222222222,
                          "#7201a8"
                        ],
                        [
                          0.3333333333333333,
                          "#9c179e"
                        ],
                        [
                          0.4444444444444444,
                          "#bd3786"
                        ],
                        [
                          0.5555555555555556,
                          "#d8576b"
                        ],
                        [
                          0.6666666666666666,
                          "#ed7953"
                        ],
                        [
                          0.7777777777777778,
                          "#fb9f3a"
                        ],
                        [
                          0.8888888888888888,
                          "#fdca26"
                        ],
                        [
                          1,
                          "#f0f921"
                        ]
                      ],
                      "sequentialminus": [
                        [
                          0,
                          "#0d0887"
                        ],
                        [
                          0.1111111111111111,
                          "#46039f"
                        ],
                        [
                          0.2222222222222222,
                          "#7201a8"
                        ],
                        [
                          0.3333333333333333,
                          "#9c179e"
                        ],
                        [
                          0.4444444444444444,
                          "#bd3786"
                        ],
                        [
                          0.5555555555555556,
                          "#d8576b"
                        ],
                        [
                          0.6666666666666666,
                          "#ed7953"
                        ],
                        [
                          0.7777777777777778,
                          "#fb9f3a"
                        ],
                        [
                          0.8888888888888888,
                          "#fdca26"
                        ],
                        [
                          1,
                          "#f0f921"
                        ]
                      ]
                    },
                    "colorway": [
                      "#636efa",
                      "#EF553B",
                      "#00cc96",
                      "#ab63fa",
                      "#FFA15A",
                      "#19d3f3",
                      "#FF6692",
                      "#B6E880",
                      "#FF97FF",
                      "#FECB52"
                    ],
                    "font": {
                      "color": "#2a3f5f"
                    },
                    "geo": {
                      "bgcolor": "white",
                      "lakecolor": "white",
                      "landcolor": "#E5ECF6",
                      "showlakes": true,
                      "showland": true,
                      "subunitcolor": "white"
                    },
                    "hoverlabel": {
                      "align": "left"
                    },
                    "hovermode": "closest",
                    "mapbox": {
                      "style": "light"
                    },
                    "paper_bgcolor": "white",
                    "plot_bgcolor": "#E5ECF6",
                    "polar": {
                      "angularaxis": {
                        "gridcolor": "white",
                        "linecolor": "white",
                        "ticks": ""
                      },
                      "bgcolor": "#E5ECF6",
                      "radialaxis": {
                        "gridcolor": "white",
                        "linecolor": "white",
                        "ticks": ""
                      }
                    },
                    "scene": {
                      "xaxis": {
                        "backgroundcolor": "#E5ECF6",
                        "gridcolor": "white",
                        "gridwidth": 2,
                        "linecolor": "white",
                        "showbackground": true,
                        "ticks": "",
                        "zerolinecolor": "white"
                      },
                      "yaxis": {
                        "backgroundcolor": "#E5ECF6",
                        "gridcolor": "white",
                        "gridwidth": 2,
                        "linecolor": "white",
                        "showbackground": true,
                        "ticks": "",
                        "zerolinecolor": "white"
                      },
                      "zaxis": {
                        "backgroundcolor": "#E5ECF6",
                        "gridcolor": "white",
                        "gridwidth": 2,
                        "linecolor": "white",
                        "showbackground": true,
                        "ticks": "",
                        "zerolinecolor": "white"
                      }
                    },
                    "shapedefaults": {
                      "line": {
                        "color": "#2a3f5f"
                      }
                    },
                    "ternary": {
                      "aaxis": {
                        "gridcolor": "white",
                        "linecolor": "white",
                        "ticks": ""
                      },
                      "baxis": {
                        "gridcolor": "white",
                        "linecolor": "white",
                        "ticks": ""
                      },
                      "bgcolor": "#E5ECF6",
                      "caxis": {
                        "gridcolor": "white",
                        "linecolor": "white",
                        "ticks": ""
                      }
                    },
                    "title": {
                      "x": 0.05
                    },
                    "xaxis": {
                      "automargin": true,
                      "gridcolor": "white",
                      "linecolor": "white",
                      "ticks": "",
                      "title": {
                        "standoff": 15
                      },
                      "zerolinecolor": "white",
                      "zerolinewidth": 2
                    },
                    "yaxis": {
                      "automargin": true,
                      "gridcolor": "white",
                      "linecolor": "white",
                      "ticks": "",
                      "title": {
                        "standoff": 15
                      },
                      "zerolinecolor": "white",
                      "zerolinewidth": 2
                    }
                  }
                },
                "title": {
                  "text": "Yes vs No",
                  "x": 0.5
                },
                "uniformtext": {
                  "minsize": 30
                },
                "width": 640
              }
            }
          },
          "metadata": {},
          "output_type": "display_data"
        }
      ],
      "source": [
        "# Checking for the target variable distribution\n",
        "fig = px.pie(data_frame = df, names = 'austim', hole = 0.5, title = 'Yes vs No',\n",
        "             width = 640, height = 480, color_discrete_sequence = px.colors.sequential.Bluered)\n",
        "fig.update_layout(title_x = 0.5, uniformtext_minsize = 30)\n",
        "fig.show()"
      ]
    },
    {
      "cell_type": "code",
      "execution_count": 20,
      "metadata": {
        "colab": {
          "base_uri": "https://localhost:8080/",
          "height": 676
        },
        "id": "mDUl8VVp5pzf",
        "outputId": "65b2b2ed-8bb6-4ee4-aa45-1416915d69b7"
      },
      "outputs": [
        {
          "ename": "ValueError",
          "evalue": "could not convert string to float: 'm'",
          "output_type": "error",
          "traceback": [
            "\u001b[1;31m---------------------------------------------------------------------------\u001b[0m",
            "\u001b[1;31mValueError\u001b[0m                                Traceback (most recent call last)",
            "Cell \u001b[1;32mIn[20], line 4\u001b[0m\n\u001b[0;32m      1\u001b[0m \u001b[38;5;66;03m#Correlation plot\u001b[39;00m\n\u001b[0;32m      2\u001b[0m plt\u001b[38;5;241m.\u001b[39mfigure(figsize \u001b[38;5;241m=\u001b[39m (\u001b[38;5;241m10\u001b[39m, \u001b[38;5;241m6\u001b[39m))\n\u001b[1;32m----> 4\u001b[0m corr \u001b[38;5;241m=\u001b[39m \u001b[43mdf\u001b[49m\u001b[38;5;241;43m.\u001b[39;49m\u001b[43mcorr\u001b[49m\u001b[43m(\u001b[49m\u001b[43m)\u001b[49m\n\u001b[0;32m      6\u001b[0m sns\u001b[38;5;241m.\u001b[39mheatmap(data \u001b[38;5;241m=\u001b[39m corr, annot \u001b[38;5;241m=\u001b[39m \u001b[38;5;28;01mTrue\u001b[39;00m, fmt \u001b[38;5;241m=\u001b[39m \u001b[38;5;124m'\u001b[39m\u001b[38;5;124m.2g\u001b[39m\u001b[38;5;124m'\u001b[39m, linewidth \u001b[38;5;241m=\u001b[39m \u001b[38;5;241m1\u001b[39m)\n\u001b[0;32m      7\u001b[0m plt\u001b[38;5;241m.\u001b[39mshow()\n",
            "File \u001b[1;32mc:\\Users\\mohamed mowina\\anaconda3\\envs\\nngpu\\lib\\site-packages\\pandas\\core\\frame.py:11049\u001b[0m, in \u001b[0;36mDataFrame.corr\u001b[1;34m(self, method, min_periods, numeric_only)\u001b[0m\n\u001b[0;32m  11047\u001b[0m cols \u001b[38;5;241m=\u001b[39m data\u001b[38;5;241m.\u001b[39mcolumns\n\u001b[0;32m  11048\u001b[0m idx \u001b[38;5;241m=\u001b[39m cols\u001b[38;5;241m.\u001b[39mcopy()\n\u001b[1;32m> 11049\u001b[0m mat \u001b[38;5;241m=\u001b[39m \u001b[43mdata\u001b[49m\u001b[38;5;241;43m.\u001b[39;49m\u001b[43mto_numpy\u001b[49m\u001b[43m(\u001b[49m\u001b[43mdtype\u001b[49m\u001b[38;5;241;43m=\u001b[39;49m\u001b[38;5;28;43mfloat\u001b[39;49m\u001b[43m,\u001b[49m\u001b[43m \u001b[49m\u001b[43mna_value\u001b[49m\u001b[38;5;241;43m=\u001b[39;49m\u001b[43mnp\u001b[49m\u001b[38;5;241;43m.\u001b[39;49m\u001b[43mnan\u001b[49m\u001b[43m,\u001b[49m\u001b[43m \u001b[49m\u001b[43mcopy\u001b[49m\u001b[38;5;241;43m=\u001b[39;49m\u001b[38;5;28;43;01mFalse\u001b[39;49;00m\u001b[43m)\u001b[49m\n\u001b[0;32m  11051\u001b[0m \u001b[38;5;28;01mif\u001b[39;00m method \u001b[38;5;241m==\u001b[39m \u001b[38;5;124m\"\u001b[39m\u001b[38;5;124mpearson\u001b[39m\u001b[38;5;124m\"\u001b[39m:\n\u001b[0;32m  11052\u001b[0m     correl \u001b[38;5;241m=\u001b[39m libalgos\u001b[38;5;241m.\u001b[39mnancorr(mat, minp\u001b[38;5;241m=\u001b[39mmin_periods)\n",
            "File \u001b[1;32mc:\\Users\\mohamed mowina\\anaconda3\\envs\\nngpu\\lib\\site-packages\\pandas\\core\\frame.py:1993\u001b[0m, in \u001b[0;36mDataFrame.to_numpy\u001b[1;34m(self, dtype, copy, na_value)\u001b[0m\n\u001b[0;32m   1991\u001b[0m \u001b[38;5;28;01mif\u001b[39;00m dtype \u001b[38;5;129;01mis\u001b[39;00m \u001b[38;5;129;01mnot\u001b[39;00m \u001b[38;5;28;01mNone\u001b[39;00m:\n\u001b[0;32m   1992\u001b[0m     dtype \u001b[38;5;241m=\u001b[39m np\u001b[38;5;241m.\u001b[39mdtype(dtype)\n\u001b[1;32m-> 1993\u001b[0m result \u001b[38;5;241m=\u001b[39m \u001b[38;5;28;43mself\u001b[39;49m\u001b[38;5;241;43m.\u001b[39;49m\u001b[43m_mgr\u001b[49m\u001b[38;5;241;43m.\u001b[39;49m\u001b[43mas_array\u001b[49m\u001b[43m(\u001b[49m\u001b[43mdtype\u001b[49m\u001b[38;5;241;43m=\u001b[39;49m\u001b[43mdtype\u001b[49m\u001b[43m,\u001b[49m\u001b[43m \u001b[49m\u001b[43mcopy\u001b[49m\u001b[38;5;241;43m=\u001b[39;49m\u001b[43mcopy\u001b[49m\u001b[43m,\u001b[49m\u001b[43m \u001b[49m\u001b[43mna_value\u001b[49m\u001b[38;5;241;43m=\u001b[39;49m\u001b[43mna_value\u001b[49m\u001b[43m)\u001b[49m\n\u001b[0;32m   1994\u001b[0m \u001b[38;5;28;01mif\u001b[39;00m result\u001b[38;5;241m.\u001b[39mdtype \u001b[38;5;129;01mis\u001b[39;00m \u001b[38;5;129;01mnot\u001b[39;00m dtype:\n\u001b[0;32m   1995\u001b[0m     result \u001b[38;5;241m=\u001b[39m np\u001b[38;5;241m.\u001b[39masarray(result, dtype\u001b[38;5;241m=\u001b[39mdtype)\n",
            "File \u001b[1;32mc:\\Users\\mohamed mowina\\anaconda3\\envs\\nngpu\\lib\\site-packages\\pandas\\core\\internals\\managers.py:1694\u001b[0m, in \u001b[0;36mBlockManager.as_array\u001b[1;34m(self, dtype, copy, na_value)\u001b[0m\n\u001b[0;32m   1692\u001b[0m         arr\u001b[38;5;241m.\u001b[39mflags\u001b[38;5;241m.\u001b[39mwriteable \u001b[38;5;241m=\u001b[39m \u001b[38;5;28;01mFalse\u001b[39;00m\n\u001b[0;32m   1693\u001b[0m \u001b[38;5;28;01melse\u001b[39;00m:\n\u001b[1;32m-> 1694\u001b[0m     arr \u001b[38;5;241m=\u001b[39m \u001b[38;5;28;43mself\u001b[39;49m\u001b[38;5;241;43m.\u001b[39;49m\u001b[43m_interleave\u001b[49m\u001b[43m(\u001b[49m\u001b[43mdtype\u001b[49m\u001b[38;5;241;43m=\u001b[39;49m\u001b[43mdtype\u001b[49m\u001b[43m,\u001b[49m\u001b[43m \u001b[49m\u001b[43mna_value\u001b[49m\u001b[38;5;241;43m=\u001b[39;49m\u001b[43mna_value\u001b[49m\u001b[43m)\u001b[49m\n\u001b[0;32m   1695\u001b[0m     \u001b[38;5;66;03m# The underlying data was copied within _interleave, so no need\u001b[39;00m\n\u001b[0;32m   1696\u001b[0m     \u001b[38;5;66;03m# to further copy if copy=True or setting na_value\u001b[39;00m\n\u001b[0;32m   1698\u001b[0m \u001b[38;5;28;01mif\u001b[39;00m na_value \u001b[38;5;129;01mis\u001b[39;00m lib\u001b[38;5;241m.\u001b[39mno_default:\n",
            "File \u001b[1;32mc:\\Users\\mohamed mowina\\anaconda3\\envs\\nngpu\\lib\\site-packages\\pandas\\core\\internals\\managers.py:1753\u001b[0m, in \u001b[0;36mBlockManager._interleave\u001b[1;34m(self, dtype, na_value)\u001b[0m\n\u001b[0;32m   1751\u001b[0m     \u001b[38;5;28;01melse\u001b[39;00m:\n\u001b[0;32m   1752\u001b[0m         arr \u001b[38;5;241m=\u001b[39m blk\u001b[38;5;241m.\u001b[39mget_values(dtype)\n\u001b[1;32m-> 1753\u001b[0m     result[rl\u001b[38;5;241m.\u001b[39mindexer] \u001b[38;5;241m=\u001b[39m arr\n\u001b[0;32m   1754\u001b[0m     itemmask[rl\u001b[38;5;241m.\u001b[39mindexer] \u001b[38;5;241m=\u001b[39m \u001b[38;5;241m1\u001b[39m\n\u001b[0;32m   1756\u001b[0m \u001b[38;5;28;01mif\u001b[39;00m \u001b[38;5;129;01mnot\u001b[39;00m itemmask\u001b[38;5;241m.\u001b[39mall():\n",
            "\u001b[1;31mValueError\u001b[0m: could not convert string to float: 'm'"
          ]
        },
        {
          "data": {
            "text/plain": [
              "<Figure size 1000x600 with 0 Axes>"
            ]
          },
          "metadata": {},
          "output_type": "display_data"
        }
      ],
      "source": [
        "#Correlation plot\n",
        "plt.figure(figsize = (10, 6))\n",
        "\n",
        "corr = df.corr()\n",
        "\n",
        "sns.heatmap(data = corr, annot = True, fmt = '.2g', linewidth = 1)\n",
        "plt.show()"
      ]
    },
    {
      "cell_type": "markdown",
      "metadata": {
        "id": "Yl0eyt5a6tXZ"
      },
      "source": []
    },
    {
      "cell_type": "code",
      "execution_count": 6,
      "metadata": {
        "id": "ayRFuyMn6s3H"
      },
      "outputs": [],
      "source": [
        "df = df.dropna(subset=['age'])"
      ]
    },
    {
      "cell_type": "code",
      "execution_count": 7,
      "metadata": {
        "id": "rW7Yrxji7EVY"
      },
      "outputs": [],
      "source": [
        "df['austim'] = df['austim'].map({'yes': 1, 'no': 0})"
      ]
    },
    {
      "cell_type": "code",
      "execution_count": 8,
      "metadata": {
        "colab": {
          "base_uri": "https://localhost:8080/",
          "height": 617
        },
        "id": "hQjbcjR8ARBi",
        "outputId": "1e670d7d-a5b8-47b3-e034-3966d0e59912"
      },
      "outputs": [
        {
          "data": {
            "text/html": [
              "<div>\n",
              "<style scoped>\n",
              "    .dataframe tbody tr th:only-of-type {\n",
              "        vertical-align: middle;\n",
              "    }\n",
              "\n",
              "    .dataframe tbody tr th {\n",
              "        vertical-align: top;\n",
              "    }\n",
              "\n",
              "    .dataframe thead th {\n",
              "        text-align: right;\n",
              "    }\n",
              "</style>\n",
              "<table border=\"1\" class=\"dataframe\">\n",
              "  <thead>\n",
              "    <tr style=\"text-align: right;\">\n",
              "      <th></th>\n",
              "      <th>A1_Score</th>\n",
              "      <th>A2_Score</th>\n",
              "      <th>A3_Score</th>\n",
              "      <th>A4_Score</th>\n",
              "      <th>A5_Score</th>\n",
              "      <th>A6_Score</th>\n",
              "      <th>A7_Score</th>\n",
              "      <th>A8_Score</th>\n",
              "      <th>A9_Score</th>\n",
              "      <th>A10_Score</th>\n",
              "      <th>...</th>\n",
              "      <th>gender</th>\n",
              "      <th>ethnicity</th>\n",
              "      <th>jundice</th>\n",
              "      <th>austim</th>\n",
              "      <th>contry_of_res</th>\n",
              "      <th>used_app_before</th>\n",
              "      <th>result</th>\n",
              "      <th>age_desc</th>\n",
              "      <th>relation</th>\n",
              "      <th>Class/ASD</th>\n",
              "    </tr>\n",
              "  </thead>\n",
              "  <tbody>\n",
              "    <tr>\n",
              "      <th>0</th>\n",
              "      <td>1</td>\n",
              "      <td>1</td>\n",
              "      <td>0</td>\n",
              "      <td>0</td>\n",
              "      <td>1</td>\n",
              "      <td>1</td>\n",
              "      <td>0</td>\n",
              "      <td>1</td>\n",
              "      <td>0</td>\n",
              "      <td>0</td>\n",
              "      <td>...</td>\n",
              "      <td>m</td>\n",
              "      <td>Others</td>\n",
              "      <td>no</td>\n",
              "      <td>0</td>\n",
              "      <td>Jordan</td>\n",
              "      <td>no</td>\n",
              "      <td>5</td>\n",
              "      <td>'4-11 years'</td>\n",
              "      <td>Parent</td>\n",
              "      <td>NO</td>\n",
              "    </tr>\n",
              "    <tr>\n",
              "      <th>1</th>\n",
              "      <td>1</td>\n",
              "      <td>1</td>\n",
              "      <td>0</td>\n",
              "      <td>0</td>\n",
              "      <td>1</td>\n",
              "      <td>1</td>\n",
              "      <td>0</td>\n",
              "      <td>1</td>\n",
              "      <td>0</td>\n",
              "      <td>0</td>\n",
              "      <td>...</td>\n",
              "      <td>m</td>\n",
              "      <td>'Middle Eastern '</td>\n",
              "      <td>no</td>\n",
              "      <td>0</td>\n",
              "      <td>Jordan</td>\n",
              "      <td>no</td>\n",
              "      <td>5</td>\n",
              "      <td>'4-11 years'</td>\n",
              "      <td>Parent</td>\n",
              "      <td>NO</td>\n",
              "    </tr>\n",
              "    <tr>\n",
              "      <th>2</th>\n",
              "      <td>1</td>\n",
              "      <td>1</td>\n",
              "      <td>0</td>\n",
              "      <td>0</td>\n",
              "      <td>0</td>\n",
              "      <td>1</td>\n",
              "      <td>1</td>\n",
              "      <td>1</td>\n",
              "      <td>0</td>\n",
              "      <td>0</td>\n",
              "      <td>...</td>\n",
              "      <td>m</td>\n",
              "      <td>?</td>\n",
              "      <td>no</td>\n",
              "      <td>0</td>\n",
              "      <td>Jordan</td>\n",
              "      <td>yes</td>\n",
              "      <td>5</td>\n",
              "      <td>'4-11 years'</td>\n",
              "      <td>?</td>\n",
              "      <td>NO</td>\n",
              "    </tr>\n",
              "    <tr>\n",
              "      <th>3</th>\n",
              "      <td>0</td>\n",
              "      <td>1</td>\n",
              "      <td>0</td>\n",
              "      <td>0</td>\n",
              "      <td>1</td>\n",
              "      <td>1</td>\n",
              "      <td>0</td>\n",
              "      <td>0</td>\n",
              "      <td>0</td>\n",
              "      <td>1</td>\n",
              "      <td>...</td>\n",
              "      <td>f</td>\n",
              "      <td>?</td>\n",
              "      <td>yes</td>\n",
              "      <td>0</td>\n",
              "      <td>Jordan</td>\n",
              "      <td>no</td>\n",
              "      <td>4</td>\n",
              "      <td>'4-11 years'</td>\n",
              "      <td>?</td>\n",
              "      <td>NO</td>\n",
              "    </tr>\n",
              "    <tr>\n",
              "      <th>4</th>\n",
              "      <td>1</td>\n",
              "      <td>1</td>\n",
              "      <td>1</td>\n",
              "      <td>1</td>\n",
              "      <td>1</td>\n",
              "      <td>1</td>\n",
              "      <td>1</td>\n",
              "      <td>1</td>\n",
              "      <td>1</td>\n",
              "      <td>1</td>\n",
              "      <td>...</td>\n",
              "      <td>m</td>\n",
              "      <td>Others</td>\n",
              "      <td>yes</td>\n",
              "      <td>0</td>\n",
              "      <td>'United States'</td>\n",
              "      <td>no</td>\n",
              "      <td>10</td>\n",
              "      <td>'4-11 years'</td>\n",
              "      <td>Parent</td>\n",
              "      <td>YES</td>\n",
              "    </tr>\n",
              "    <tr>\n",
              "      <th>...</th>\n",
              "      <td>...</td>\n",
              "      <td>...</td>\n",
              "      <td>...</td>\n",
              "      <td>...</td>\n",
              "      <td>...</td>\n",
              "      <td>...</td>\n",
              "      <td>...</td>\n",
              "      <td>...</td>\n",
              "      <td>...</td>\n",
              "      <td>...</td>\n",
              "      <td>...</td>\n",
              "      <td>...</td>\n",
              "      <td>...</td>\n",
              "      <td>...</td>\n",
              "      <td>...</td>\n",
              "      <td>...</td>\n",
              "      <td>...</td>\n",
              "      <td>...</td>\n",
              "      <td>...</td>\n",
              "      <td>...</td>\n",
              "      <td>...</td>\n",
              "    </tr>\n",
              "    <tr>\n",
              "      <th>287</th>\n",
              "      <td>1</td>\n",
              "      <td>1</td>\n",
              "      <td>1</td>\n",
              "      <td>1</td>\n",
              "      <td>1</td>\n",
              "      <td>1</td>\n",
              "      <td>1</td>\n",
              "      <td>1</td>\n",
              "      <td>1</td>\n",
              "      <td>1</td>\n",
              "      <td>...</td>\n",
              "      <td>f</td>\n",
              "      <td>White-European</td>\n",
              "      <td>yes</td>\n",
              "      <td>1</td>\n",
              "      <td>'United Kingdom'</td>\n",
              "      <td>no</td>\n",
              "      <td>10</td>\n",
              "      <td>'4-11 years'</td>\n",
              "      <td>Parent</td>\n",
              "      <td>YES</td>\n",
              "    </tr>\n",
              "    <tr>\n",
              "      <th>288</th>\n",
              "      <td>1</td>\n",
              "      <td>0</td>\n",
              "      <td>0</td>\n",
              "      <td>0</td>\n",
              "      <td>1</td>\n",
              "      <td>0</td>\n",
              "      <td>1</td>\n",
              "      <td>0</td>\n",
              "      <td>0</td>\n",
              "      <td>1</td>\n",
              "      <td>...</td>\n",
              "      <td>f</td>\n",
              "      <td>White-European</td>\n",
              "      <td>yes</td>\n",
              "      <td>1</td>\n",
              "      <td>Australia</td>\n",
              "      <td>no</td>\n",
              "      <td>4</td>\n",
              "      <td>'4-11 years'</td>\n",
              "      <td>Parent</td>\n",
              "      <td>NO</td>\n",
              "    </tr>\n",
              "    <tr>\n",
              "      <th>289</th>\n",
              "      <td>1</td>\n",
              "      <td>0</td>\n",
              "      <td>1</td>\n",
              "      <td>1</td>\n",
              "      <td>1</td>\n",
              "      <td>1</td>\n",
              "      <td>1</td>\n",
              "      <td>0</td>\n",
              "      <td>0</td>\n",
              "      <td>1</td>\n",
              "      <td>...</td>\n",
              "      <td>m</td>\n",
              "      <td>Latino</td>\n",
              "      <td>no</td>\n",
              "      <td>0</td>\n",
              "      <td>Brazil</td>\n",
              "      <td>no</td>\n",
              "      <td>7</td>\n",
              "      <td>'4-11 years'</td>\n",
              "      <td>Parent</td>\n",
              "      <td>YES</td>\n",
              "    </tr>\n",
              "    <tr>\n",
              "      <th>290</th>\n",
              "      <td>1</td>\n",
              "      <td>1</td>\n",
              "      <td>1</td>\n",
              "      <td>0</td>\n",
              "      <td>1</td>\n",
              "      <td>1</td>\n",
              "      <td>1</td>\n",
              "      <td>1</td>\n",
              "      <td>1</td>\n",
              "      <td>1</td>\n",
              "      <td>...</td>\n",
              "      <td>m</td>\n",
              "      <td>'South Asian'</td>\n",
              "      <td>no</td>\n",
              "      <td>0</td>\n",
              "      <td>India</td>\n",
              "      <td>no</td>\n",
              "      <td>9</td>\n",
              "      <td>'4-11 years'</td>\n",
              "      <td>Parent</td>\n",
              "      <td>YES</td>\n",
              "    </tr>\n",
              "    <tr>\n",
              "      <th>291</th>\n",
              "      <td>0</td>\n",
              "      <td>0</td>\n",
              "      <td>1</td>\n",
              "      <td>0</td>\n",
              "      <td>1</td>\n",
              "      <td>0</td>\n",
              "      <td>1</td>\n",
              "      <td>0</td>\n",
              "      <td>0</td>\n",
              "      <td>0</td>\n",
              "      <td>...</td>\n",
              "      <td>f</td>\n",
              "      <td>'South Asian'</td>\n",
              "      <td>no</td>\n",
              "      <td>0</td>\n",
              "      <td>India</td>\n",
              "      <td>no</td>\n",
              "      <td>3</td>\n",
              "      <td>'4-11 years'</td>\n",
              "      <td>Parent</td>\n",
              "      <td>NO</td>\n",
              "    </tr>\n",
              "  </tbody>\n",
              "</table>\n",
              "<p>292 rows × 21 columns</p>\n",
              "</div>"
            ],
            "text/plain": [
              "     A1_Score  A2_Score  A3_Score  A4_Score  A5_Score  A6_Score  A7_Score  \\\n",
              "0           1         1         0         0         1         1         0   \n",
              "1           1         1         0         0         1         1         0   \n",
              "2           1         1         0         0         0         1         1   \n",
              "3           0         1         0         0         1         1         0   \n",
              "4           1         1         1         1         1         1         1   \n",
              "..        ...       ...       ...       ...       ...       ...       ...   \n",
              "287         1         1         1         1         1         1         1   \n",
              "288         1         0         0         0         1         0         1   \n",
              "289         1         0         1         1         1         1         1   \n",
              "290         1         1         1         0         1         1         1   \n",
              "291         0         0         1         0         1         0         1   \n",
              "\n",
              "     A8_Score  A9_Score  A10_Score  ... gender          ethnicity jundice  \\\n",
              "0           1         0          0  ...      m             Others      no   \n",
              "1           1         0          0  ...      m  'Middle Eastern '      no   \n",
              "2           1         0          0  ...      m                  ?      no   \n",
              "3           0         0          1  ...      f                  ?     yes   \n",
              "4           1         1          1  ...      m             Others     yes   \n",
              "..        ...       ...        ...  ...    ...                ...     ...   \n",
              "287         1         1          1  ...      f     White-European     yes   \n",
              "288         0         0          1  ...      f     White-European     yes   \n",
              "289         0         0          1  ...      m             Latino      no   \n",
              "290         1         1          1  ...      m      'South Asian'      no   \n",
              "291         0         0          0  ...      f      'South Asian'      no   \n",
              "\n",
              "    austim     contry_of_res used_app_before result      age_desc relation  \\\n",
              "0        0            Jordan              no      5  '4-11 years'   Parent   \n",
              "1        0            Jordan              no      5  '4-11 years'   Parent   \n",
              "2        0            Jordan             yes      5  '4-11 years'        ?   \n",
              "3        0            Jordan              no      4  '4-11 years'        ?   \n",
              "4        0   'United States'              no     10  '4-11 years'   Parent   \n",
              "..     ...               ...             ...    ...           ...      ...   \n",
              "287      1  'United Kingdom'              no     10  '4-11 years'   Parent   \n",
              "288      1         Australia              no      4  '4-11 years'   Parent   \n",
              "289      0            Brazil              no      7  '4-11 years'   Parent   \n",
              "290      0             India              no      9  '4-11 years'   Parent   \n",
              "291      0             India              no      3  '4-11 years'   Parent   \n",
              "\n",
              "    Class/ASD  \n",
              "0          NO  \n",
              "1          NO  \n",
              "2          NO  \n",
              "3          NO  \n",
              "4         YES  \n",
              "..        ...  \n",
              "287       YES  \n",
              "288        NO  \n",
              "289       YES  \n",
              "290       YES  \n",
              "291        NO  \n",
              "\n",
              "[292 rows x 21 columns]"
            ]
          },
          "execution_count": 8,
          "metadata": {},
          "output_type": "execute_result"
        }
      ],
      "source": [
        "df"
      ]
    },
    {
      "cell_type": "code",
      "execution_count": 9,
      "metadata": {
        "colab": {
          "base_uri": "https://localhost:8080/"
        },
        "id": "A2w_ScCA7JIv",
        "outputId": "e401898d-13fa-4ca2-82ea-cc26c2e4c137"
      },
      "outputs": [
        {
          "name": "stdout",
          "output_type": "stream",
          "text": [
            "A1_Score           0\n",
            "A2_Score           0\n",
            "A3_Score           0\n",
            "A4_Score           0\n",
            "A5_Score           0\n",
            "A6_Score           0\n",
            "A7_Score           0\n",
            "A8_Score           0\n",
            "A9_Score           0\n",
            "A10_Score          0\n",
            "age                0\n",
            "gender             0\n",
            "ethnicity          0\n",
            "jundice            0\n",
            "austim             0\n",
            "contry_of_res      0\n",
            "used_app_before    0\n",
            "result             0\n",
            "age_desc           0\n",
            "relation           0\n",
            "Class/ASD          0\n",
            "dtype: int64\n"
          ]
        }
      ],
      "source": [
        "# Check for missing values\n",
        "missing_values = df.isnull().sum()\n",
        "\n",
        "print(missing_values)"
      ]
    },
    {
      "cell_type": "code",
      "execution_count": 18,
      "metadata": {
        "colab": {
          "base_uri": "https://localhost:8080/"
        },
        "id": "kpZ9jrFR7O_i",
        "outputId": "8f6b1ad9-1926-4c91-cd8c-2b2bbc30b4bc"
      },
      "outputs": [
        {
          "name": "stdout",
          "output_type": "stream",
          "text": [
            "0\n",
            "0\n",
            "0\n"
          ]
        }
      ],
      "source": [
        "# Specify the column and the string to count\n",
        "column_name = ['ethnicity', 'relation','age']\n",
        "string_to_count = '?'\n",
        "\n",
        "# Count the occurrences of the string in the column\n",
        "for i in column_name:\n",
        "  count = (df[i] == string_to_count).sum()\n",
        "  print(count)"
      ]
    },
    {
      "cell_type": "code",
      "execution_count": 11,
      "metadata": {
        "id": "74egv8d57aSI"
      },
      "outputs": [],
      "source": [
        "column_name = 'ethnicity'\n",
        "column_name2 = 'relation'\n",
        "\n",
        "mode_value = df[column_name].mode()[0]\n",
        "mode_value2 = df[column_name].mode()[0]\n",
        "\n",
        "# Replace the specific string with the mode of the column\n",
        "df.ethnicity = df.ethnicity.replace('?', mode_value)\n",
        "df.relation = df.relation.replace('?', mode_value2)\n",
        "df.relation = df.relation.replace('others', 'Others')\n",
        "df.ethnicity = df.ethnicity.replace('others', 'Others')\n",
        "df.ethnicity = df.ethnicity.replace(\"'Middle Eastern '\", 'Middle Eastern' )\n",
        "df.ethnicity = df.ethnicity.replace('Middle Eastern ','Middle Eastern')\n",
        "df.ethnicity = df.ethnicity.replace(\"'South Asian'\",'South Asian')\n",
        "df.relation = df.relation.replace(\"'Health care professional'\", 'Health care professional')\n",
        "df.relation = df.relation.replace('self', 'Self')\n"
      ]
    },
    {
      "cell_type": "code",
      "execution_count": 17,
      "metadata": {},
      "outputs": [],
      "source": [
        "mode_value3 = df['age'].mode()[0]\n",
        "df.age = df.age.replace('?', mode_value3)"
      ]
    },
    {
      "cell_type": "code",
      "execution_count": 21,
      "metadata": {
        "colab": {
          "background_save": true
        },
        "id": "IFDA-fPK-eCz"
      },
      "outputs": [],
      "source": [
        "# Split the dataset into features and target variable\n",
        "X = df.drop('austim', axis=1)\n",
        "y = df['austim']"
      ]
    },
    {
      "cell_type": "code",
      "execution_count": 22,
      "metadata": {
        "id": "-qBggYml-gL2"
      },
      "outputs": [],
      "source": [
        "X = X.drop(columns=['age','result','contry_of_res','Class/ASD'])"
      ]
    },
    {
      "cell_type": "code",
      "execution_count": 23,
      "metadata": {
        "id": "97rOU3wB-mxB"
      },
      "outputs": [],
      "source": [
        "# One-hot encode categorical variables\n",
        "X = pd.get_dummies(X, columns=['ethnicity','relation','gender','jundice','used_app_before','age_desc'])"
      ]
    },
    {
      "cell_type": "code",
      "execution_count": 24,
      "metadata": {
        "colab": {
          "base_uri": "https://localhost:8080/",
          "height": 461
        },
        "id": "GIwxJ5heTCqi",
        "outputId": "f0589fc1-534a-4843-fe39-d3f210036136"
      },
      "outputs": [
        {
          "data": {
            "text/html": [
              "<div>\n",
              "<style scoped>\n",
              "    .dataframe tbody tr th:only-of-type {\n",
              "        vertical-align: middle;\n",
              "    }\n",
              "\n",
              "    .dataframe tbody tr th {\n",
              "        vertical-align: top;\n",
              "    }\n",
              "\n",
              "    .dataframe thead th {\n",
              "        text-align: right;\n",
              "    }\n",
              "</style>\n",
              "<table border=\"1\" class=\"dataframe\">\n",
              "  <thead>\n",
              "    <tr style=\"text-align: right;\">\n",
              "      <th></th>\n",
              "      <th>A1_Score</th>\n",
              "      <th>A2_Score</th>\n",
              "      <th>A3_Score</th>\n",
              "      <th>A4_Score</th>\n",
              "      <th>A5_Score</th>\n",
              "      <th>A6_Score</th>\n",
              "      <th>A7_Score</th>\n",
              "      <th>A8_Score</th>\n",
              "      <th>A9_Score</th>\n",
              "      <th>A10_Score</th>\n",
              "      <th>...</th>\n",
              "      <th>relation_Parent</th>\n",
              "      <th>relation_Relative</th>\n",
              "      <th>relation_Self</th>\n",
              "      <th>gender_f</th>\n",
              "      <th>gender_m</th>\n",
              "      <th>jundice_no</th>\n",
              "      <th>jundice_yes</th>\n",
              "      <th>used_app_before_no</th>\n",
              "      <th>used_app_before_yes</th>\n",
              "      <th>age_desc_'4-11 years'</th>\n",
              "    </tr>\n",
              "  </thead>\n",
              "  <tbody>\n",
              "    <tr>\n",
              "      <th>0</th>\n",
              "      <td>1</td>\n",
              "      <td>1</td>\n",
              "      <td>0</td>\n",
              "      <td>0</td>\n",
              "      <td>1</td>\n",
              "      <td>1</td>\n",
              "      <td>0</td>\n",
              "      <td>1</td>\n",
              "      <td>0</td>\n",
              "      <td>0</td>\n",
              "      <td>...</td>\n",
              "      <td>True</td>\n",
              "      <td>False</td>\n",
              "      <td>False</td>\n",
              "      <td>False</td>\n",
              "      <td>True</td>\n",
              "      <td>True</td>\n",
              "      <td>False</td>\n",
              "      <td>True</td>\n",
              "      <td>False</td>\n",
              "      <td>True</td>\n",
              "    </tr>\n",
              "    <tr>\n",
              "      <th>1</th>\n",
              "      <td>1</td>\n",
              "      <td>1</td>\n",
              "      <td>0</td>\n",
              "      <td>0</td>\n",
              "      <td>1</td>\n",
              "      <td>1</td>\n",
              "      <td>0</td>\n",
              "      <td>1</td>\n",
              "      <td>0</td>\n",
              "      <td>0</td>\n",
              "      <td>...</td>\n",
              "      <td>True</td>\n",
              "      <td>False</td>\n",
              "      <td>False</td>\n",
              "      <td>False</td>\n",
              "      <td>True</td>\n",
              "      <td>True</td>\n",
              "      <td>False</td>\n",
              "      <td>True</td>\n",
              "      <td>False</td>\n",
              "      <td>True</td>\n",
              "    </tr>\n",
              "    <tr>\n",
              "      <th>2</th>\n",
              "      <td>1</td>\n",
              "      <td>1</td>\n",
              "      <td>0</td>\n",
              "      <td>0</td>\n",
              "      <td>0</td>\n",
              "      <td>1</td>\n",
              "      <td>1</td>\n",
              "      <td>1</td>\n",
              "      <td>0</td>\n",
              "      <td>0</td>\n",
              "      <td>...</td>\n",
              "      <td>True</td>\n",
              "      <td>False</td>\n",
              "      <td>False</td>\n",
              "      <td>False</td>\n",
              "      <td>True</td>\n",
              "      <td>True</td>\n",
              "      <td>False</td>\n",
              "      <td>False</td>\n",
              "      <td>True</td>\n",
              "      <td>True</td>\n",
              "    </tr>\n",
              "    <tr>\n",
              "      <th>3</th>\n",
              "      <td>0</td>\n",
              "      <td>1</td>\n",
              "      <td>0</td>\n",
              "      <td>0</td>\n",
              "      <td>1</td>\n",
              "      <td>1</td>\n",
              "      <td>0</td>\n",
              "      <td>0</td>\n",
              "      <td>0</td>\n",
              "      <td>1</td>\n",
              "      <td>...</td>\n",
              "      <td>True</td>\n",
              "      <td>False</td>\n",
              "      <td>False</td>\n",
              "      <td>True</td>\n",
              "      <td>False</td>\n",
              "      <td>False</td>\n",
              "      <td>True</td>\n",
              "      <td>True</td>\n",
              "      <td>False</td>\n",
              "      <td>True</td>\n",
              "    </tr>\n",
              "    <tr>\n",
              "      <th>4</th>\n",
              "      <td>1</td>\n",
              "      <td>1</td>\n",
              "      <td>1</td>\n",
              "      <td>1</td>\n",
              "      <td>1</td>\n",
              "      <td>1</td>\n",
              "      <td>1</td>\n",
              "      <td>1</td>\n",
              "      <td>1</td>\n",
              "      <td>1</td>\n",
              "      <td>...</td>\n",
              "      <td>True</td>\n",
              "      <td>False</td>\n",
              "      <td>False</td>\n",
              "      <td>False</td>\n",
              "      <td>True</td>\n",
              "      <td>False</td>\n",
              "      <td>True</td>\n",
              "      <td>True</td>\n",
              "      <td>False</td>\n",
              "      <td>True</td>\n",
              "    </tr>\n",
              "    <tr>\n",
              "      <th>...</th>\n",
              "      <td>...</td>\n",
              "      <td>...</td>\n",
              "      <td>...</td>\n",
              "      <td>...</td>\n",
              "      <td>...</td>\n",
              "      <td>...</td>\n",
              "      <td>...</td>\n",
              "      <td>...</td>\n",
              "      <td>...</td>\n",
              "      <td>...</td>\n",
              "      <td>...</td>\n",
              "      <td>...</td>\n",
              "      <td>...</td>\n",
              "      <td>...</td>\n",
              "      <td>...</td>\n",
              "      <td>...</td>\n",
              "      <td>...</td>\n",
              "      <td>...</td>\n",
              "      <td>...</td>\n",
              "      <td>...</td>\n",
              "      <td>...</td>\n",
              "    </tr>\n",
              "    <tr>\n",
              "      <th>287</th>\n",
              "      <td>1</td>\n",
              "      <td>1</td>\n",
              "      <td>1</td>\n",
              "      <td>1</td>\n",
              "      <td>1</td>\n",
              "      <td>1</td>\n",
              "      <td>1</td>\n",
              "      <td>1</td>\n",
              "      <td>1</td>\n",
              "      <td>1</td>\n",
              "      <td>...</td>\n",
              "      <td>True</td>\n",
              "      <td>False</td>\n",
              "      <td>False</td>\n",
              "      <td>True</td>\n",
              "      <td>False</td>\n",
              "      <td>False</td>\n",
              "      <td>True</td>\n",
              "      <td>True</td>\n",
              "      <td>False</td>\n",
              "      <td>True</td>\n",
              "    </tr>\n",
              "    <tr>\n",
              "      <th>288</th>\n",
              "      <td>1</td>\n",
              "      <td>0</td>\n",
              "      <td>0</td>\n",
              "      <td>0</td>\n",
              "      <td>1</td>\n",
              "      <td>0</td>\n",
              "      <td>1</td>\n",
              "      <td>0</td>\n",
              "      <td>0</td>\n",
              "      <td>1</td>\n",
              "      <td>...</td>\n",
              "      <td>True</td>\n",
              "      <td>False</td>\n",
              "      <td>False</td>\n",
              "      <td>True</td>\n",
              "      <td>False</td>\n",
              "      <td>False</td>\n",
              "      <td>True</td>\n",
              "      <td>True</td>\n",
              "      <td>False</td>\n",
              "      <td>True</td>\n",
              "    </tr>\n",
              "    <tr>\n",
              "      <th>289</th>\n",
              "      <td>1</td>\n",
              "      <td>0</td>\n",
              "      <td>1</td>\n",
              "      <td>1</td>\n",
              "      <td>1</td>\n",
              "      <td>1</td>\n",
              "      <td>1</td>\n",
              "      <td>0</td>\n",
              "      <td>0</td>\n",
              "      <td>1</td>\n",
              "      <td>...</td>\n",
              "      <td>True</td>\n",
              "      <td>False</td>\n",
              "      <td>False</td>\n",
              "      <td>False</td>\n",
              "      <td>True</td>\n",
              "      <td>True</td>\n",
              "      <td>False</td>\n",
              "      <td>True</td>\n",
              "      <td>False</td>\n",
              "      <td>True</td>\n",
              "    </tr>\n",
              "    <tr>\n",
              "      <th>290</th>\n",
              "      <td>1</td>\n",
              "      <td>1</td>\n",
              "      <td>1</td>\n",
              "      <td>0</td>\n",
              "      <td>1</td>\n",
              "      <td>1</td>\n",
              "      <td>1</td>\n",
              "      <td>1</td>\n",
              "      <td>1</td>\n",
              "      <td>1</td>\n",
              "      <td>...</td>\n",
              "      <td>True</td>\n",
              "      <td>False</td>\n",
              "      <td>False</td>\n",
              "      <td>False</td>\n",
              "      <td>True</td>\n",
              "      <td>True</td>\n",
              "      <td>False</td>\n",
              "      <td>True</td>\n",
              "      <td>False</td>\n",
              "      <td>True</td>\n",
              "    </tr>\n",
              "    <tr>\n",
              "      <th>291</th>\n",
              "      <td>0</td>\n",
              "      <td>0</td>\n",
              "      <td>1</td>\n",
              "      <td>0</td>\n",
              "      <td>1</td>\n",
              "      <td>0</td>\n",
              "      <td>1</td>\n",
              "      <td>0</td>\n",
              "      <td>0</td>\n",
              "      <td>0</td>\n",
              "      <td>...</td>\n",
              "      <td>True</td>\n",
              "      <td>False</td>\n",
              "      <td>False</td>\n",
              "      <td>True</td>\n",
              "      <td>False</td>\n",
              "      <td>True</td>\n",
              "      <td>False</td>\n",
              "      <td>True</td>\n",
              "      <td>False</td>\n",
              "      <td>True</td>\n",
              "    </tr>\n",
              "  </tbody>\n",
              "</table>\n",
              "<p>292 rows × 31 columns</p>\n",
              "</div>"
            ],
            "text/plain": [
              "     A1_Score  A2_Score  A3_Score  A4_Score  A5_Score  A6_Score  A7_Score  \\\n",
              "0           1         1         0         0         1         1         0   \n",
              "1           1         1         0         0         1         1         0   \n",
              "2           1         1         0         0         0         1         1   \n",
              "3           0         1         0         0         1         1         0   \n",
              "4           1         1         1         1         1         1         1   \n",
              "..        ...       ...       ...       ...       ...       ...       ...   \n",
              "287         1         1         1         1         1         1         1   \n",
              "288         1         0         0         0         1         0         1   \n",
              "289         1         0         1         1         1         1         1   \n",
              "290         1         1         1         0         1         1         1   \n",
              "291         0         0         1         0         1         0         1   \n",
              "\n",
              "     A8_Score  A9_Score  A10_Score  ...  relation_Parent  relation_Relative  \\\n",
              "0           1         0          0  ...             True              False   \n",
              "1           1         0          0  ...             True              False   \n",
              "2           1         0          0  ...             True              False   \n",
              "3           0         0          1  ...             True              False   \n",
              "4           1         1          1  ...             True              False   \n",
              "..        ...       ...        ...  ...              ...                ...   \n",
              "287         1         1          1  ...             True              False   \n",
              "288         0         0          1  ...             True              False   \n",
              "289         0         0          1  ...             True              False   \n",
              "290         1         1          1  ...             True              False   \n",
              "291         0         0          0  ...             True              False   \n",
              "\n",
              "     relation_Self  gender_f  gender_m  jundice_no  jundice_yes  \\\n",
              "0            False     False      True        True        False   \n",
              "1            False     False      True        True        False   \n",
              "2            False     False      True        True        False   \n",
              "3            False      True     False       False         True   \n",
              "4            False     False      True       False         True   \n",
              "..             ...       ...       ...         ...          ...   \n",
              "287          False      True     False       False         True   \n",
              "288          False      True     False       False         True   \n",
              "289          False     False      True        True        False   \n",
              "290          False     False      True        True        False   \n",
              "291          False      True     False        True        False   \n",
              "\n",
              "     used_app_before_no  used_app_before_yes  age_desc_'4-11 years'  \n",
              "0                  True                False                   True  \n",
              "1                  True                False                   True  \n",
              "2                 False                 True                   True  \n",
              "3                  True                False                   True  \n",
              "4                  True                False                   True  \n",
              "..                  ...                  ...                    ...  \n",
              "287                True                False                   True  \n",
              "288                True                False                   True  \n",
              "289                True                False                   True  \n",
              "290                True                False                   True  \n",
              "291                True                False                   True  \n",
              "\n",
              "[292 rows x 31 columns]"
            ]
          },
          "execution_count": 24,
          "metadata": {},
          "output_type": "execute_result"
        }
      ],
      "source": [
        "X"
      ]
    },
    {
      "cell_type": "code",
      "execution_count": 25,
      "metadata": {
        "colab": {
          "base_uri": "https://localhost:8080/"
        },
        "id": "Rq_H-BiTTqZn",
        "outputId": "8d9f9b5b-1be2-4fb7-f4b8-6c98d503bd9b"
      },
      "outputs": [
        {
          "data": {
            "text/plain": [
              "0      0\n",
              "1      0\n",
              "2      0\n",
              "3      0\n",
              "4      0\n",
              "      ..\n",
              "287    1\n",
              "288    1\n",
              "289    0\n",
              "290    0\n",
              "291    0\n",
              "Name: austim, Length: 292, dtype: int64"
            ]
          },
          "execution_count": 25,
          "metadata": {},
          "output_type": "execute_result"
        }
      ],
      "source": [
        "y"
      ]
    },
    {
      "cell_type": "code",
      "execution_count": 26,
      "metadata": {
        "id": "SgYVSU48-zkZ"
      },
      "outputs": [],
      "source": [
        "X = X.astype(int)"
      ]
    },
    {
      "cell_type": "code",
      "execution_count": 27,
      "metadata": {
        "colab": {
          "base_uri": "https://localhost:8080/"
        },
        "id": "rlgB7Sw8-47Q",
        "outputId": "4e3718c1-600e-4ee0-9aed-f0f2c5933d7b"
      },
      "outputs": [
        {
          "name": "stdout",
          "output_type": "stream",
          "text": [
            "<class 'pandas.core.frame.DataFrame'>\n",
            "RangeIndex: 292 entries, 0 to 291\n",
            "Data columns (total 31 columns):\n",
            " #   Column                             Non-Null Count  Dtype\n",
            "---  ------                             --------------  -----\n",
            " 0   A1_Score                           292 non-null    int32\n",
            " 1   A2_Score                           292 non-null    int32\n",
            " 2   A3_Score                           292 non-null    int32\n",
            " 3   A4_Score                           292 non-null    int32\n",
            " 4   A5_Score                           292 non-null    int32\n",
            " 5   A6_Score                           292 non-null    int32\n",
            " 6   A7_Score                           292 non-null    int32\n",
            " 7   A8_Score                           292 non-null    int32\n",
            " 8   A9_Score                           292 non-null    int32\n",
            " 9   A10_Score                          292 non-null    int32\n",
            " 10  ethnicity_Asian                    292 non-null    int32\n",
            " 11  ethnicity_Black                    292 non-null    int32\n",
            " 12  ethnicity_Hispanic                 292 non-null    int32\n",
            " 13  ethnicity_Latino                   292 non-null    int32\n",
            " 14  ethnicity_Middle Eastern           292 non-null    int32\n",
            " 15  ethnicity_Others                   292 non-null    int32\n",
            " 16  ethnicity_Pasifika                 292 non-null    int32\n",
            " 17  ethnicity_South Asian              292 non-null    int32\n",
            " 18  ethnicity_Turkish                  292 non-null    int32\n",
            " 19  ethnicity_White-European           292 non-null    int32\n",
            " 20  relation_Health care professional  292 non-null    int32\n",
            " 21  relation_Parent                    292 non-null    int32\n",
            " 22  relation_Relative                  292 non-null    int32\n",
            " 23  relation_Self                      292 non-null    int32\n",
            " 24  gender_f                           292 non-null    int32\n",
            " 25  gender_m                           292 non-null    int32\n",
            " 26  jundice_no                         292 non-null    int32\n",
            " 27  jundice_yes                        292 non-null    int32\n",
            " 28  used_app_before_no                 292 non-null    int32\n",
            " 29  used_app_before_yes                292 non-null    int32\n",
            " 30  age_desc_'4-11 years'              292 non-null    int32\n",
            "dtypes: int32(31)\n",
            "memory usage: 35.5 KB\n"
          ]
        }
      ],
      "source": [
        "X.info()\n"
      ]
    },
    {
      "cell_type": "code",
      "execution_count": 28,
      "metadata": {
        "colab": {
          "base_uri": "https://localhost:8080/",
          "height": 617
        },
        "id": "6u4k7lgb9MMS",
        "outputId": "b9314093-bf16-4bf9-a64d-ba10c21cdd89"
      },
      "outputs": [
        {
          "data": {
            "text/html": [
              "<div>\n",
              "<style scoped>\n",
              "    .dataframe tbody tr th:only-of-type {\n",
              "        vertical-align: middle;\n",
              "    }\n",
              "\n",
              "    .dataframe tbody tr th {\n",
              "        vertical-align: top;\n",
              "    }\n",
              "\n",
              "    .dataframe thead th {\n",
              "        text-align: right;\n",
              "    }\n",
              "</style>\n",
              "<table border=\"1\" class=\"dataframe\">\n",
              "  <thead>\n",
              "    <tr style=\"text-align: right;\">\n",
              "      <th></th>\n",
              "      <th>A1_Score</th>\n",
              "      <th>A2_Score</th>\n",
              "      <th>A3_Score</th>\n",
              "      <th>A4_Score</th>\n",
              "      <th>A5_Score</th>\n",
              "      <th>A6_Score</th>\n",
              "      <th>A7_Score</th>\n",
              "      <th>A8_Score</th>\n",
              "      <th>A9_Score</th>\n",
              "      <th>A10_Score</th>\n",
              "      <th>...</th>\n",
              "      <th>gender</th>\n",
              "      <th>ethnicity</th>\n",
              "      <th>jundice</th>\n",
              "      <th>austim</th>\n",
              "      <th>contry_of_res</th>\n",
              "      <th>used_app_before</th>\n",
              "      <th>result</th>\n",
              "      <th>age_desc</th>\n",
              "      <th>relation</th>\n",
              "      <th>Class/ASD</th>\n",
              "    </tr>\n",
              "  </thead>\n",
              "  <tbody>\n",
              "    <tr>\n",
              "      <th>0</th>\n",
              "      <td>1</td>\n",
              "      <td>1</td>\n",
              "      <td>0</td>\n",
              "      <td>0</td>\n",
              "      <td>1</td>\n",
              "      <td>1</td>\n",
              "      <td>0</td>\n",
              "      <td>1</td>\n",
              "      <td>0</td>\n",
              "      <td>0</td>\n",
              "      <td>...</td>\n",
              "      <td>m</td>\n",
              "      <td>Others</td>\n",
              "      <td>no</td>\n",
              "      <td>0</td>\n",
              "      <td>Jordan</td>\n",
              "      <td>no</td>\n",
              "      <td>5</td>\n",
              "      <td>'4-11 years'</td>\n",
              "      <td>Parent</td>\n",
              "      <td>NO</td>\n",
              "    </tr>\n",
              "    <tr>\n",
              "      <th>1</th>\n",
              "      <td>1</td>\n",
              "      <td>1</td>\n",
              "      <td>0</td>\n",
              "      <td>0</td>\n",
              "      <td>1</td>\n",
              "      <td>1</td>\n",
              "      <td>0</td>\n",
              "      <td>1</td>\n",
              "      <td>0</td>\n",
              "      <td>0</td>\n",
              "      <td>...</td>\n",
              "      <td>m</td>\n",
              "      <td>Middle Eastern</td>\n",
              "      <td>no</td>\n",
              "      <td>0</td>\n",
              "      <td>Jordan</td>\n",
              "      <td>no</td>\n",
              "      <td>5</td>\n",
              "      <td>'4-11 years'</td>\n",
              "      <td>Parent</td>\n",
              "      <td>NO</td>\n",
              "    </tr>\n",
              "    <tr>\n",
              "      <th>2</th>\n",
              "      <td>1</td>\n",
              "      <td>1</td>\n",
              "      <td>0</td>\n",
              "      <td>0</td>\n",
              "      <td>0</td>\n",
              "      <td>1</td>\n",
              "      <td>1</td>\n",
              "      <td>1</td>\n",
              "      <td>0</td>\n",
              "      <td>0</td>\n",
              "      <td>...</td>\n",
              "      <td>m</td>\n",
              "      <td>White-European</td>\n",
              "      <td>no</td>\n",
              "      <td>0</td>\n",
              "      <td>Jordan</td>\n",
              "      <td>yes</td>\n",
              "      <td>5</td>\n",
              "      <td>'4-11 years'</td>\n",
              "      <td>Parent</td>\n",
              "      <td>NO</td>\n",
              "    </tr>\n",
              "    <tr>\n",
              "      <th>3</th>\n",
              "      <td>0</td>\n",
              "      <td>1</td>\n",
              "      <td>0</td>\n",
              "      <td>0</td>\n",
              "      <td>1</td>\n",
              "      <td>1</td>\n",
              "      <td>0</td>\n",
              "      <td>0</td>\n",
              "      <td>0</td>\n",
              "      <td>1</td>\n",
              "      <td>...</td>\n",
              "      <td>f</td>\n",
              "      <td>White-European</td>\n",
              "      <td>yes</td>\n",
              "      <td>0</td>\n",
              "      <td>Jordan</td>\n",
              "      <td>no</td>\n",
              "      <td>4</td>\n",
              "      <td>'4-11 years'</td>\n",
              "      <td>Parent</td>\n",
              "      <td>NO</td>\n",
              "    </tr>\n",
              "    <tr>\n",
              "      <th>4</th>\n",
              "      <td>1</td>\n",
              "      <td>1</td>\n",
              "      <td>1</td>\n",
              "      <td>1</td>\n",
              "      <td>1</td>\n",
              "      <td>1</td>\n",
              "      <td>1</td>\n",
              "      <td>1</td>\n",
              "      <td>1</td>\n",
              "      <td>1</td>\n",
              "      <td>...</td>\n",
              "      <td>m</td>\n",
              "      <td>Others</td>\n",
              "      <td>yes</td>\n",
              "      <td>0</td>\n",
              "      <td>'United States'</td>\n",
              "      <td>no</td>\n",
              "      <td>10</td>\n",
              "      <td>'4-11 years'</td>\n",
              "      <td>Parent</td>\n",
              "      <td>YES</td>\n",
              "    </tr>\n",
              "    <tr>\n",
              "      <th>...</th>\n",
              "      <td>...</td>\n",
              "      <td>...</td>\n",
              "      <td>...</td>\n",
              "      <td>...</td>\n",
              "      <td>...</td>\n",
              "      <td>...</td>\n",
              "      <td>...</td>\n",
              "      <td>...</td>\n",
              "      <td>...</td>\n",
              "      <td>...</td>\n",
              "      <td>...</td>\n",
              "      <td>...</td>\n",
              "      <td>...</td>\n",
              "      <td>...</td>\n",
              "      <td>...</td>\n",
              "      <td>...</td>\n",
              "      <td>...</td>\n",
              "      <td>...</td>\n",
              "      <td>...</td>\n",
              "      <td>...</td>\n",
              "      <td>...</td>\n",
              "    </tr>\n",
              "    <tr>\n",
              "      <th>287</th>\n",
              "      <td>1</td>\n",
              "      <td>1</td>\n",
              "      <td>1</td>\n",
              "      <td>1</td>\n",
              "      <td>1</td>\n",
              "      <td>1</td>\n",
              "      <td>1</td>\n",
              "      <td>1</td>\n",
              "      <td>1</td>\n",
              "      <td>1</td>\n",
              "      <td>...</td>\n",
              "      <td>f</td>\n",
              "      <td>White-European</td>\n",
              "      <td>yes</td>\n",
              "      <td>1</td>\n",
              "      <td>'United Kingdom'</td>\n",
              "      <td>no</td>\n",
              "      <td>10</td>\n",
              "      <td>'4-11 years'</td>\n",
              "      <td>Parent</td>\n",
              "      <td>YES</td>\n",
              "    </tr>\n",
              "    <tr>\n",
              "      <th>288</th>\n",
              "      <td>1</td>\n",
              "      <td>0</td>\n",
              "      <td>0</td>\n",
              "      <td>0</td>\n",
              "      <td>1</td>\n",
              "      <td>0</td>\n",
              "      <td>1</td>\n",
              "      <td>0</td>\n",
              "      <td>0</td>\n",
              "      <td>1</td>\n",
              "      <td>...</td>\n",
              "      <td>f</td>\n",
              "      <td>White-European</td>\n",
              "      <td>yes</td>\n",
              "      <td>1</td>\n",
              "      <td>Australia</td>\n",
              "      <td>no</td>\n",
              "      <td>4</td>\n",
              "      <td>'4-11 years'</td>\n",
              "      <td>Parent</td>\n",
              "      <td>NO</td>\n",
              "    </tr>\n",
              "    <tr>\n",
              "      <th>289</th>\n",
              "      <td>1</td>\n",
              "      <td>0</td>\n",
              "      <td>1</td>\n",
              "      <td>1</td>\n",
              "      <td>1</td>\n",
              "      <td>1</td>\n",
              "      <td>1</td>\n",
              "      <td>0</td>\n",
              "      <td>0</td>\n",
              "      <td>1</td>\n",
              "      <td>...</td>\n",
              "      <td>m</td>\n",
              "      <td>Latino</td>\n",
              "      <td>no</td>\n",
              "      <td>0</td>\n",
              "      <td>Brazil</td>\n",
              "      <td>no</td>\n",
              "      <td>7</td>\n",
              "      <td>'4-11 years'</td>\n",
              "      <td>Parent</td>\n",
              "      <td>YES</td>\n",
              "    </tr>\n",
              "    <tr>\n",
              "      <th>290</th>\n",
              "      <td>1</td>\n",
              "      <td>1</td>\n",
              "      <td>1</td>\n",
              "      <td>0</td>\n",
              "      <td>1</td>\n",
              "      <td>1</td>\n",
              "      <td>1</td>\n",
              "      <td>1</td>\n",
              "      <td>1</td>\n",
              "      <td>1</td>\n",
              "      <td>...</td>\n",
              "      <td>m</td>\n",
              "      <td>South Asian</td>\n",
              "      <td>no</td>\n",
              "      <td>0</td>\n",
              "      <td>India</td>\n",
              "      <td>no</td>\n",
              "      <td>9</td>\n",
              "      <td>'4-11 years'</td>\n",
              "      <td>Parent</td>\n",
              "      <td>YES</td>\n",
              "    </tr>\n",
              "    <tr>\n",
              "      <th>291</th>\n",
              "      <td>0</td>\n",
              "      <td>0</td>\n",
              "      <td>1</td>\n",
              "      <td>0</td>\n",
              "      <td>1</td>\n",
              "      <td>0</td>\n",
              "      <td>1</td>\n",
              "      <td>0</td>\n",
              "      <td>0</td>\n",
              "      <td>0</td>\n",
              "      <td>...</td>\n",
              "      <td>f</td>\n",
              "      <td>South Asian</td>\n",
              "      <td>no</td>\n",
              "      <td>0</td>\n",
              "      <td>India</td>\n",
              "      <td>no</td>\n",
              "      <td>3</td>\n",
              "      <td>'4-11 years'</td>\n",
              "      <td>Parent</td>\n",
              "      <td>NO</td>\n",
              "    </tr>\n",
              "  </tbody>\n",
              "</table>\n",
              "<p>292 rows × 21 columns</p>\n",
              "</div>"
            ],
            "text/plain": [
              "     A1_Score  A2_Score  A3_Score  A4_Score  A5_Score  A6_Score  A7_Score  \\\n",
              "0           1         1         0         0         1         1         0   \n",
              "1           1         1         0         0         1         1         0   \n",
              "2           1         1         0         0         0         1         1   \n",
              "3           0         1         0         0         1         1         0   \n",
              "4           1         1         1         1         1         1         1   \n",
              "..        ...       ...       ...       ...       ...       ...       ...   \n",
              "287         1         1         1         1         1         1         1   \n",
              "288         1         0         0         0         1         0         1   \n",
              "289         1         0         1         1         1         1         1   \n",
              "290         1         1         1         0         1         1         1   \n",
              "291         0         0         1         0         1         0         1   \n",
              "\n",
              "     A8_Score  A9_Score  A10_Score  ... gender       ethnicity jundice austim  \\\n",
              "0           1         0          0  ...      m          Others      no      0   \n",
              "1           1         0          0  ...      m  Middle Eastern      no      0   \n",
              "2           1         0          0  ...      m  White-European      no      0   \n",
              "3           0         0          1  ...      f  White-European     yes      0   \n",
              "4           1         1          1  ...      m          Others     yes      0   \n",
              "..        ...       ...        ...  ...    ...             ...     ...    ...   \n",
              "287         1         1          1  ...      f  White-European     yes      1   \n",
              "288         0         0          1  ...      f  White-European     yes      1   \n",
              "289         0         0          1  ...      m          Latino      no      0   \n",
              "290         1         1          1  ...      m     South Asian      no      0   \n",
              "291         0         0          0  ...      f     South Asian      no      0   \n",
              "\n",
              "        contry_of_res used_app_before result      age_desc relation Class/ASD  \n",
              "0              Jordan              no      5  '4-11 years'   Parent        NO  \n",
              "1              Jordan              no      5  '4-11 years'   Parent        NO  \n",
              "2              Jordan             yes      5  '4-11 years'   Parent        NO  \n",
              "3              Jordan              no      4  '4-11 years'   Parent        NO  \n",
              "4     'United States'              no     10  '4-11 years'   Parent       YES  \n",
              "..                ...             ...    ...           ...      ...       ...  \n",
              "287  'United Kingdom'              no     10  '4-11 years'   Parent       YES  \n",
              "288         Australia              no      4  '4-11 years'   Parent        NO  \n",
              "289            Brazil              no      7  '4-11 years'   Parent       YES  \n",
              "290             India              no      9  '4-11 years'   Parent       YES  \n",
              "291             India              no      3  '4-11 years'   Parent        NO  \n",
              "\n",
              "[292 rows x 21 columns]"
            ]
          },
          "execution_count": 28,
          "metadata": {},
          "output_type": "execute_result"
        }
      ],
      "source": [
        "df"
      ]
    },
    {
      "cell_type": "code",
      "execution_count": null,
      "metadata": {},
      "outputs": [],
      "source": [
        "pip install imbalanced-learn\n"
      ]
    },
    {
      "cell_type": "code",
      "execution_count": 31,
      "metadata": {
        "colab": {
          "base_uri": "https://localhost:8080/"
        },
        "id": "dZ8v53weBHiN",
        "outputId": "74b8e072-caea-4309-dac4-9db7471bc652"
      },
      "outputs": [
        {
          "data": {
            "text/plain": [
              "194"
            ]
          },
          "execution_count": 31,
          "metadata": {},
          "output_type": "execute_result"
        }
      ],
      "source": [
        "# Random-Oversampling\n",
        "\n",
        "a1=X\n",
        "b1=y\n",
        "\n",
        "from imblearn.over_sampling import RandomOverSampler\n",
        "\n",
        "ros = RandomOverSampler(sampling_strategy=\"minority\")\n",
        "\n",
        "X, y = ros.fit_resample(a1, b1)\n",
        "\n",
        "X.shape[0] - a1.shape[0]\n"
      ]
    },
    {
      "cell_type": "markdown",
      "metadata": {
        "id": "sTFO7-FcBZty"
      },
      "source": [
        " Standardizing and Splitting the Dataset"
      ]
    },
    {
      "cell_type": "code",
      "execution_count": 32,
      "metadata": {
        "id": "OhKMg8ZkBPxy"
      },
      "outputs": [],
      "source": [
        "from sklearn.preprocessing import StandardScaler\n",
        "\n",
        "# Scale the input features\n",
        "scaler = StandardScaler()\n",
        "#X = scaler.fit_transform(X)\n",
        "X = pd.DataFrame(scaler.fit_transform(X), columns=X.columns, index=X.index)\n"
      ]
    },
    {
      "cell_type": "code",
      "execution_count": 33,
      "metadata": {
        "id": "hnUxGgMwBfk2"
      },
      "outputs": [],
      "source": [
        "\n",
        "from sklearn.model_selection import train_test_split\n",
        "\n",
        "# Split the dataset into training, validation, and test sets\n",
        "X_train, X_test, y_train, y_test = train_test_split(X, y, test_size=0.2, random_state=42)\n",
        "X_train, X_val, y_train, y_val = train_test_split(X_train, y_train, test_size=0.2, random_state=42)"
      ]
    },
    {
      "cell_type": "code",
      "execution_count": 34,
      "metadata": {
        "id": "tivIjEeEBmBr"
      },
      "outputs": [],
      "source": [
        "\n",
        "import tensorflow as tf\n",
        "from tensorflow import keras\n"
      ]
    },
    {
      "cell_type": "code",
      "execution_count": 35,
      "metadata": {
        "id": "ogzItPfNBry-"
      },
      "outputs": [],
      "source": [
        "# Convert the datasets to TensorFlow tensors\n",
        "train_dataset = tf.data.Dataset.from_tensor_slices((X_train.values, y_train.values))\n",
        "val_dataset = tf.data.Dataset.from_tensor_slices((X_val.values, y_val.values))\n",
        "test_dataset = tf.data.Dataset.from_tensor_slices((X_test.values, y_test.values))\n"
      ]
    },
    {
      "cell_type": "code",
      "execution_count": 36,
      "metadata": {
        "id": "qw1B4CLjBzBA"
      },
      "outputs": [],
      "source": [
        "# Batch and shuffle the datasets\n",
        "batch_size = 10\n",
        "train_dataset = train_dataset.shuffle(len(X_train)).batch(batch_size)\n",
        "val_dataset = val_dataset.batch(batch_size)\n",
        "test_dataset = test_dataset.batch(batch_size)\n"
      ]
    },
    {
      "cell_type": "code",
      "execution_count": 37,
      "metadata": {
        "id": "JYf8f9PnB3Ye"
      },
      "outputs": [],
      "source": [
        "from tensorflow.keras.models import Sequential\n",
        "from tensorflow.keras.layers import Dense, Dropout\n",
        "from tensorflow.keras.callbacks import EarlyStopping\n",
        "import matplotlib.pyplot as plt\n",
        "from tensorflow.keras.utils import plot_model"
      ]
    },
    {
      "cell_type": "code",
      "execution_count": 38,
      "metadata": {
        "colab": {
          "base_uri": "https://localhost:8080/"
        },
        "id": "d93hUzafB85y",
        "outputId": "8ada584a-8dc8-4d58-f79d-fbbf03c872a5"
      },
      "outputs": [
        {
          "data": {
            "text/plain": [
              "31"
            ]
          },
          "execution_count": 38,
          "metadata": {},
          "output_type": "execute_result"
        }
      ],
      "source": [
        "#Input Size\n",
        "X_train.shape[1]"
      ]
    },
    {
      "cell_type": "code",
      "execution_count": 39,
      "metadata": {
        "id": "ihn9V0uSCD8m"
      },
      "outputs": [],
      "source": [
        "# Define the model architecture\n",
        "model = Sequential()\n",
        "model.add(Dense(X_train.shape[1], activation='relu', input_dim=X_train.shape[1]))\n",
        "model.add(Dense(X_train.shape[1], activation='relu'))\n",
        "model.add(Dense(1, activation='sigmoid'))\n"
      ]
    },
    {
      "cell_type": "code",
      "execution_count": 41,
      "metadata": {},
      "outputs": [
        {
          "name": "stdout",
          "output_type": "stream",
          "text": [
            "Collecting pydot\n",
            "  Using cached pydot-2.0.0-py3-none-any.whl.metadata (9.6 kB)\n",
            "Requirement already satisfied: pyparsing>=3 in c:\\users\\mohamed mowina\\anaconda3\\envs\\nngpu\\lib\\site-packages (from pydot) (3.1.2)\n",
            "Using cached pydot-2.0.0-py3-none-any.whl (22 kB)\n",
            "Installing collected packages: pydot\n",
            "Successfully installed pydot-2.0.0\n",
            "Note: you may need to restart the kernel to use updated packages.\n"
          ]
        }
      ],
      "source": [
        "pip install pydot"
      ]
    },
    {
      "cell_type": "code",
      "execution_count": 42,
      "metadata": {
        "colab": {
          "base_uri": "https://localhost:8080/",
          "height": 422
        },
        "id": "6I5VMI7FCJzt",
        "outputId": "0d633b0b-5881-42a7-9e12-d527043131f0"
      },
      "outputs": [
        {
          "name": "stdout",
          "output_type": "stream",
          "text": [
            "You must install pydot (`pip install pydot`) and install graphviz (see instructions at https://graphviz.gitlab.io/download/) for plot_model to work.\n"
          ]
        }
      ],
      "source": [
        "plot_model(model, to_file='model.png', show_shapes=True)\n"
      ]
    },
    {
      "cell_type": "code",
      "execution_count": 43,
      "metadata": {
        "id": "Jsyp6YFpCekB"
      },
      "outputs": [],
      "source": [
        "# Compile model\n",
        "model.compile(optimizer= 'adam', loss='binary_crossentropy', metrics=['accuracy'])\n"
      ]
    },
    {
      "cell_type": "code",
      "execution_count": 44,
      "metadata": {
        "colab": {
          "base_uri": "https://localhost:8080/"
        },
        "id": "wlKaae1tClM9",
        "outputId": "50d5f1c3-a424-4399-ccf4-6524c5c85e17"
      },
      "outputs": [
        {
          "name": "stdout",
          "output_type": "stream",
          "text": [
            "Epoch 1/150\n",
            "31/31 [==============================] - 2s 11ms/step - loss: 0.6756 - accuracy: 0.5613 - val_loss: 0.6502 - val_accuracy: 0.6026\n",
            "Epoch 2/150\n",
            "31/31 [==============================] - 0s 7ms/step - loss: 0.6117 - accuracy: 0.6516 - val_loss: 0.6260 - val_accuracy: 0.6410\n",
            "Epoch 3/150\n",
            "31/31 [==============================] - 0s 8ms/step - loss: 0.5726 - accuracy: 0.6742 - val_loss: 0.6086 - val_accuracy: 0.6282\n",
            "Epoch 4/150\n",
            "31/31 [==============================] - 0s 8ms/step - loss: 0.5433 - accuracy: 0.7419 - val_loss: 0.5968 - val_accuracy: 0.6410\n",
            "Epoch 5/150\n",
            "31/31 [==============================] - 0s 8ms/step - loss: 0.5170 - accuracy: 0.7484 - val_loss: 0.5885 - val_accuracy: 0.6667\n",
            "Epoch 6/150\n",
            "31/31 [==============================] - 0s 7ms/step - loss: 0.4934 - accuracy: 0.7710 - val_loss: 0.5733 - val_accuracy: 0.6667\n",
            "Epoch 7/150\n",
            "31/31 [==============================] - 0s 7ms/step - loss: 0.4723 - accuracy: 0.8032 - val_loss: 0.5634 - val_accuracy: 0.7051\n",
            "Epoch 8/150\n",
            "31/31 [==============================] - 0s 8ms/step - loss: 0.4553 - accuracy: 0.8032 - val_loss: 0.5554 - val_accuracy: 0.7051\n",
            "Epoch 9/150\n",
            "31/31 [==============================] - 0s 8ms/step - loss: 0.4347 - accuracy: 0.8161 - val_loss: 0.5469 - val_accuracy: 0.6923\n",
            "Epoch 10/150\n",
            "31/31 [==============================] - 0s 8ms/step - loss: 0.4154 - accuracy: 0.8194 - val_loss: 0.5326 - val_accuracy: 0.6923\n",
            "Epoch 11/150\n",
            "31/31 [==============================] - 0s 8ms/step - loss: 0.3969 - accuracy: 0.8290 - val_loss: 0.5147 - val_accuracy: 0.7051\n",
            "Epoch 12/150\n",
            "31/31 [==============================] - 0s 8ms/step - loss: 0.3819 - accuracy: 0.8226 - val_loss: 0.5054 - val_accuracy: 0.7051\n",
            "Epoch 13/150\n",
            "31/31 [==============================] - 0s 6ms/step - loss: 0.3642 - accuracy: 0.8516 - val_loss: 0.4939 - val_accuracy: 0.7308\n",
            "Epoch 14/150\n",
            "31/31 [==============================] - 0s 6ms/step - loss: 0.3498 - accuracy: 0.8355 - val_loss: 0.4832 - val_accuracy: 0.7179\n",
            "Epoch 15/150\n",
            "31/31 [==============================] - 0s 7ms/step - loss: 0.3346 - accuracy: 0.8484 - val_loss: 0.4772 - val_accuracy: 0.7308\n",
            "Epoch 16/150\n",
            "31/31 [==============================] - 0s 7ms/step - loss: 0.3183 - accuracy: 0.8548 - val_loss: 0.4644 - val_accuracy: 0.7564\n",
            "Epoch 17/150\n",
            "31/31 [==============================] - 0s 8ms/step - loss: 0.3050 - accuracy: 0.8774 - val_loss: 0.4542 - val_accuracy: 0.7692\n",
            "Epoch 18/150\n",
            "31/31 [==============================] - 0s 9ms/step - loss: 0.2892 - accuracy: 0.9032 - val_loss: 0.4451 - val_accuracy: 0.7564\n",
            "Epoch 19/150\n",
            "31/31 [==============================] - 0s 7ms/step - loss: 0.2782 - accuracy: 0.8935 - val_loss: 0.4398 - val_accuracy: 0.7564\n",
            "Epoch 20/150\n",
            "31/31 [==============================] - 0s 8ms/step - loss: 0.2658 - accuracy: 0.9290 - val_loss: 0.4323 - val_accuracy: 0.7949\n",
            "Epoch 21/150\n",
            "31/31 [==============================] - 0s 7ms/step - loss: 0.2520 - accuracy: 0.9226 - val_loss: 0.4135 - val_accuracy: 0.8333\n",
            "Epoch 22/150\n",
            "31/31 [==============================] - 0s 7ms/step - loss: 0.2389 - accuracy: 0.9323 - val_loss: 0.4073 - val_accuracy: 0.8333\n",
            "Epoch 23/150\n",
            "31/31 [==============================] - 0s 6ms/step - loss: 0.2290 - accuracy: 0.9290 - val_loss: 0.4043 - val_accuracy: 0.8590\n",
            "Epoch 24/150\n",
            "31/31 [==============================] - 0s 7ms/step - loss: 0.2131 - accuracy: 0.9452 - val_loss: 0.3900 - val_accuracy: 0.8333\n",
            "Epoch 25/150\n",
            "31/31 [==============================] - 0s 6ms/step - loss: 0.2048 - accuracy: 0.9419 - val_loss: 0.3850 - val_accuracy: 0.8333\n",
            "Epoch 26/150\n",
            "31/31 [==============================] - 0s 7ms/step - loss: 0.1935 - accuracy: 0.9452 - val_loss: 0.3701 - val_accuracy: 0.8718\n",
            "Epoch 27/150\n",
            "31/31 [==============================] - 0s 7ms/step - loss: 0.1861 - accuracy: 0.9452 - val_loss: 0.3671 - val_accuracy: 0.8718\n",
            "Epoch 28/150\n",
            "31/31 [==============================] - 0s 6ms/step - loss: 0.1756 - accuracy: 0.9484 - val_loss: 0.3641 - val_accuracy: 0.8846\n",
            "Epoch 29/150\n",
            "31/31 [==============================] - 0s 6ms/step - loss: 0.1643 - accuracy: 0.9548 - val_loss: 0.3563 - val_accuracy: 0.8718\n",
            "Epoch 30/150\n",
            "31/31 [==============================] - 0s 6ms/step - loss: 0.1590 - accuracy: 0.9613 - val_loss: 0.3475 - val_accuracy: 0.8846\n",
            "Epoch 31/150\n",
            "31/31 [==============================] - 0s 7ms/step - loss: 0.1491 - accuracy: 0.9677 - val_loss: 0.3447 - val_accuracy: 0.8846\n",
            "Epoch 32/150\n",
            "31/31 [==============================] - 0s 7ms/step - loss: 0.1435 - accuracy: 0.9613 - val_loss: 0.3445 - val_accuracy: 0.8846\n",
            "Epoch 33/150\n",
            "31/31 [==============================] - 0s 7ms/step - loss: 0.1367 - accuracy: 0.9710 - val_loss: 0.3340 - val_accuracy: 0.8846\n",
            "Epoch 34/150\n",
            "31/31 [==============================] - 0s 6ms/step - loss: 0.1294 - accuracy: 0.9742 - val_loss: 0.3258 - val_accuracy: 0.8846\n",
            "Epoch 35/150\n",
            "31/31 [==============================] - 0s 6ms/step - loss: 0.1232 - accuracy: 0.9774 - val_loss: 0.3335 - val_accuracy: 0.8846\n",
            "Epoch 36/150\n",
            "31/31 [==============================] - 0s 7ms/step - loss: 0.1177 - accuracy: 0.9774 - val_loss: 0.3239 - val_accuracy: 0.8846\n",
            "Epoch 37/150\n",
            "31/31 [==============================] - 0s 6ms/step - loss: 0.1132 - accuracy: 0.9806 - val_loss: 0.3104 - val_accuracy: 0.8846\n",
            "Epoch 38/150\n",
            "31/31 [==============================] - 0s 7ms/step - loss: 0.1082 - accuracy: 0.9839 - val_loss: 0.3317 - val_accuracy: 0.8846\n",
            "Epoch 39/150\n",
            "31/31 [==============================] - 0s 7ms/step - loss: 0.1015 - accuracy: 0.9806 - val_loss: 0.3169 - val_accuracy: 0.8846\n",
            "Epoch 40/150\n",
            "31/31 [==============================] - 0s 6ms/step - loss: 0.0980 - accuracy: 0.9806 - val_loss: 0.3115 - val_accuracy: 0.8846\n",
            "Epoch 41/150\n",
            "31/31 [==============================] - 0s 7ms/step - loss: 0.0943 - accuracy: 0.9871 - val_loss: 0.3213 - val_accuracy: 0.8846\n",
            "Epoch 42/150\n",
            "31/31 [==============================] - 0s 6ms/step - loss: 0.0896 - accuracy: 0.9806 - val_loss: 0.3024 - val_accuracy: 0.8974\n",
            "Epoch 43/150\n",
            "31/31 [==============================] - 0s 6ms/step - loss: 0.0866 - accuracy: 0.9871 - val_loss: 0.3075 - val_accuracy: 0.8974\n",
            "Epoch 44/150\n",
            "31/31 [==============================] - 0s 6ms/step - loss: 0.0831 - accuracy: 0.9839 - val_loss: 0.3010 - val_accuracy: 0.8974\n",
            "Epoch 45/150\n",
            "31/31 [==============================] - 0s 7ms/step - loss: 0.0842 - accuracy: 0.9806 - val_loss: 0.3470 - val_accuracy: 0.8718\n",
            "Epoch 46/150\n",
            "31/31 [==============================] - 0s 7ms/step - loss: 0.0812 - accuracy: 0.9839 - val_loss: 0.3115 - val_accuracy: 0.8974\n",
            "Epoch 47/150\n",
            "31/31 [==============================] - 0s 7ms/step - loss: 0.0733 - accuracy: 0.9871 - val_loss: 0.3130 - val_accuracy: 0.8974\n",
            "Epoch 48/150\n",
            "31/31 [==============================] - 0s 7ms/step - loss: 0.0710 - accuracy: 0.9871 - val_loss: 0.3105 - val_accuracy: 0.8974\n",
            "Epoch 49/150\n",
            "31/31 [==============================] - 0s 6ms/step - loss: 0.0697 - accuracy: 0.9871 - val_loss: 0.3194 - val_accuracy: 0.8974\n",
            "Epoch 50/150\n",
            "31/31 [==============================] - 0s 6ms/step - loss: 0.0671 - accuracy: 0.9871 - val_loss: 0.3331 - val_accuracy: 0.8846\n",
            "Epoch 51/150\n",
            "31/31 [==============================] - 0s 6ms/step - loss: 0.0661 - accuracy: 0.9871 - val_loss: 0.3332 - val_accuracy: 0.8974\n",
            "Epoch 52/150\n",
            "31/31 [==============================] - 0s 6ms/step - loss: 0.0631 - accuracy: 0.9871 - val_loss: 0.3158 - val_accuracy: 0.8974\n",
            "Epoch 53/150\n",
            "31/31 [==============================] - 0s 6ms/step - loss: 0.0615 - accuracy: 0.9903 - val_loss: 0.3337 - val_accuracy: 0.8974\n",
            "Epoch 54/150\n",
            "31/31 [==============================] - 0s 6ms/step - loss: 0.0587 - accuracy: 0.9903 - val_loss: 0.3251 - val_accuracy: 0.8974\n",
            "Epoch 54: early stopping\n"
          ]
        }
      ],
      "source": [
        "from tensorflow.keras.callbacks import EarlyStopping\n",
        "\n",
        "early_stop = EarlyStopping(patience=10, verbose=1)\n",
        "history = model.fit(train_dataset,\n",
        "                    validation_data=val_dataset, epochs=150, callbacks=[early_stop])\n"
      ]
    },
    {
      "cell_type": "code",
      "execution_count": 45,
      "metadata": {
        "colab": {
          "base_uri": "https://localhost:8080/"
        },
        "id": "n-sMqCRZC8Yg",
        "outputId": "c67c067e-0959-49e9-a0da-fc0a922a906c"
      },
      "outputs": [
        {
          "name": "stdout",
          "output_type": "stream",
          "text": [
            "3/3 [==============================] - 0s 6ms/step - loss: 0.3251 - accuracy: 0.8974\n",
            "Val Loss: 0.3250778913497925\n",
            "Val Accuracy: 0.8974359035491943\n"
          ]
        }
      ],
      "source": [
        "#Evaluate model on validation set\n",
        "val_loss, val_acc = model.evaluate(X_val, y_val)\n",
        "\n",
        "print('Val Loss:', val_loss)\n",
        "print('Val Accuracy:', val_acc)\n"
      ]
    },
    {
      "cell_type": "code",
      "execution_count": 46,
      "metadata": {
        "colab": {
          "base_uri": "https://localhost:8080/"
        },
        "id": "2WRJ7VCMC_Wz",
        "outputId": "61a80353-fe44-464a-c957-08ca681e8eb9"
      },
      "outputs": [
        {
          "name": "stdout",
          "output_type": "stream",
          "text": [
            "4/4 [==============================] - 0s 5ms/step - loss: 0.3392 - accuracy: 0.8980\n",
            "Test Loss: 0.33915024995803833\n",
            "Test Accuracy: 0.8979591727256775\n"
          ]
        }
      ],
      "source": [
        "# Evaluate model on test set\n",
        "test_loss, test_acc = model.evaluate(X_test, y_test)\n",
        "\n",
        "print('Test Loss:', test_loss)\n",
        "print('Test Accuracy:', test_acc)\n"
      ]
    },
    {
      "cell_type": "code",
      "execution_count": 47,
      "metadata": {
        "colab": {
          "base_uri": "https://localhost:8080/",
          "height": 881
        },
        "id": "TC2XP21XDGaO",
        "outputId": "d5a5d95c-9613-4af5-dcd0-7e31c2a60506"
      },
      "outputs": [
        {
          "data": {
            "image/png": "[encoded data removed]",
            "text/plain": [
              "<Figure size 640x480 with 1 Axes>"
            ]
          },
          "metadata": {},
          "output_type": "display_data"
        },
        {
          "data": {
            "image/png": "[encoded data removed]",
            "text/plain": [
              "<Figure size 640x480 with 1 Axes>"
            ]
          },
          "metadata": {},
          "output_type": "display_data"
        }
      ],
      "source": [
        "import matplotlib.pyplot as plt\n",
        "\n",
        "# Accuracy vs Epoch\n",
        "plt.plot(history.history['accuracy'], label='Training Accuracy')\n",
        "plt.plot(history.history['val_accuracy'], label='Validation Accuracy')\n",
        "plt.xlabel('Epoch')\n",
        "plt.ylabel('Accuracy')\n",
        "plt.legend()\n",
        "plt.show()\n",
        "\n",
        "# Loss vs Epoch\n",
        "plt.plot(history.history['loss'], label='Training Loss')\n",
        "plt.plot(history.history['val_loss'], label='Validation Loss')\n",
        "plt.xlabel('Epoch')\n",
        "plt.ylabel('Loss')\n",
        "plt.legend()\n",
        "plt.show()\n"
      ]
    },
    {
      "cell_type": "code",
      "execution_count": 48,
      "metadata": {},
      "outputs": [],
      "source": [
        "#save model as h5\n",
        "model.save('questionnair_v1.h5')"
      ]
    },
    {
      "cell_type": "code",
      "execution_count": 49,
      "metadata": {
        "id": "z0RPb7i_DRIa"
      },
      "outputs": [],
      "source": [
        "# Define the model architecture\n",
        "model2 = Sequential()\n",
        "model2.add(Dense(512, activation='relu', input_dim=X_train.shape[1], kernel_regularizer=keras.regularizers.l2(0.03)))\n",
        "model2.add(Dropout(0.2))\n",
        "model2.add(Dense(256, activation='relu'))\n",
        "model2.add(Dropout(0.2))\n",
        "model2.add(Dense(128, activation='relu'))\n",
        "model2.add(Dropout(0.2))\n",
        "model2.add(Dense(64, activation='relu'))\n",
        "model2.add(Dropout(0.2))\n",
        "model2.add(Dense(16, activation='relu'))\n",
        "model2.add(Dropout(0.2))\n",
        "model2.add(Dense(1, activation='sigmoid'))"
      ]
    },
    {
      "cell_type": "code",
      "execution_count": 50,
      "metadata": {
        "colab": {
          "base_uri": "https://localhost:8080/",
          "height": 1000
        },
        "id": "a8StfmAwDZPQ",
        "outputId": "f627af18-16f0-4644-bfbf-9aa946591551"
      },
      "outputs": [
        {
          "name": "stdout",
          "output_type": "stream",
          "text": [
            "You must install pydot (`pip install pydot`) and install graphviz (see instructions at https://graphviz.gitlab.io/download/) for plot_model to work.\n"
          ]
        }
      ],
      "source": [
        "plot_model(model2, to_file='model.png', show_shapes=True)\n"
      ]
    },
    {
      "cell_type": "code",
      "execution_count": 54,
      "metadata": {},
      "outputs": [
        {
          "name": "stdout",
          "output_type": "stream",
          "text": [
            "Requirement already satisfied: keras in c:\\users\\mohamed mowina\\anaconda3\\envs\\nngpu\\lib\\site-packages (2.10.0)\n",
            "Collecting keras\n",
            "  Downloading keras-3.3.3-py3-none-any.whl.metadata (5.7 kB)\n",
            "Requirement already satisfied: absl-py in c:\\users\\mohamed mowina\\anaconda3\\envs\\nngpu\\lib\\site-packages (from keras) (2.1.0)\n",
            "Requirement already satisfied: numpy in c:\\users\\mohamed mowina\\anaconda3\\envs\\nngpu\\lib\\site-packages (from keras) (1.26.4)\n",
            "Collecting rich (from keras)\n",
            "  Downloading rich-13.7.1-py3-none-any.whl.metadata (18 kB)\n",
            "Collecting namex (from keras)\n",
            "  Downloading namex-0.0.8-py3-none-any.whl.metadata (246 bytes)\n",
            "Requirement already satisfied: h5py in c:\\users\\mohamed mowina\\anaconda3\\envs\\nngpu\\lib\\site-packages (from keras) (3.11.0)\n",
            "Collecting optree (from keras)\n",
            "  Downloading optree-0.11.0-cp310-cp310-win_amd64.whl.metadata (46 kB)\n",
            "     ---------------------------------------- 0.0/46.2 kB ? eta -:--:--\n",
            "     ---------------------------------------- 0.0/46.2 kB ? eta -:--:--\n",
            "     -------- ------------------------------- 10.2/46.2 kB ? eta -:--:--\n",
            "     ------------------------- ------------ 30.7/46.2 kB 330.3 kB/s eta 0:00:01\n",
            "     ------------------------- ------------ 30.7/46.2 kB 330.3 kB/s eta 0:00:01\n",
            "     ------------------------- ------------ 30.7/46.2 kB 330.3 kB/s eta 0:00:01\n",
            "     --------------------------------- ---- 41.0/46.2 kB 151.3 kB/s eta 0:00:01\n",
            "     -------------------------------------- 46.2/46.2 kB 164.2 kB/s eta 0:00:00\n",
            "Collecting ml-dtypes (from keras)\n",
            "  Downloading ml_dtypes-0.4.0-cp310-cp310-win_amd64.whl.metadata (20 kB)\n",
            "Requirement already satisfied: typing-extensions>=4.0.0 in c:\\users\\mohamed mowina\\anaconda3\\envs\\nngpu\\lib\\site-packages (from optree->keras) (4.11.0)\n",
            "Collecting markdown-it-py>=2.2.0 (from rich->keras)\n",
            "  Downloading markdown_it_py-3.0.0-py3-none-any.whl.metadata (6.9 kB)\n",
            "Requirement already satisfied: pygments<3.0.0,>=2.13.0 in c:\\users\\mohamed mowina\\anaconda3\\envs\\nngpu\\lib\\site-packages (from rich->keras) (2.15.1)\n",
            "Collecting mdurl~=0.1 (from markdown-it-py>=2.2.0->rich->keras)\n",
            "  Downloading mdurl-0.1.2-py3-none-any.whl.metadata (1.6 kB)\n",
            "Downloading keras-3.3.3-py3-none-any.whl (1.1 MB)\n",
            "   ---------------------------------------- 0.0/1.1 MB ? eta -:--:--\n",
            "   ---------------------------------------- 0.0/1.1 MB ? eta -:--:--\n",
            "   -- ------------------------------------- 0.1/1.1 MB 825.8 kB/s eta 0:00:02\n",
            "   -- ------------------------------------- 0.1/1.1 MB 770.8 kB/s eta 0:00:02\n",
            "   -- ------------------------------------- 0.1/1.1 MB 770.8 kB/s eta 0:00:02\n",
            "   -- ------------------------------------- 0.1/1.1 MB 770.8 kB/s eta 0:00:02\n",
            "   ---- ----------------------------------- 0.1/1.1 MB 409.6 kB/s eta 0:00:03\n",
            "   ----- ---------------------------------- 0.1/1.1 MB 448.2 kB/s eta 0:00:03\n",
            "   ----- ---------------------------------- 0.2/1.1 MB 468.3 kB/s eta 0:00:03\n",
            "   ------ --------------------------------- 0.2/1.1 MB 491.5 kB/s eta 0:00:02\n",
            "   ------ --------------------------------- 0.2/1.1 MB 491.5 kB/s eta 0:00:02\n",
            "   -------- ------------------------------- 0.2/1.1 MB 444.3 kB/s eta 0:00:03\n",
            "   -------- ------------------------------- 0.2/1.1 MB 457.3 kB/s eta 0:00:02\n",
            "   --------- ------------------------------ 0.3/1.1 MB 473.7 kB/s eta 0:00:02\n",
            "   ----------- ---------------------------- 0.3/1.1 MB 487.6 kB/s eta 0:00:02\n",
            "   ----------- ---------------------------- 0.3/1.1 MB 483.9 kB/s eta 0:00:02\n",
            "   ------------ --------------------------- 0.4/1.1 MB 495.2 kB/s eta 0:00:02\n",
            "   ------------- -------------------------- 0.4/1.1 MB 505.2 kB/s eta 0:00:02\n",
            "   -------------- ------------------------- 0.4/1.1 MB 511.3 kB/s eta 0:00:02\n",
            "   --------------- ------------------------ 0.4/1.1 MB 529.7 kB/s eta 0:00:02\n",
            "   ---------------- ----------------------- 0.5/1.1 MB 517.8 kB/s eta 0:00:02\n",
            "   ------------------ --------------------- 0.5/1.1 MB 524.6 kB/s eta 0:00:02\n",
            "   ------------------- -------------------- 0.5/1.1 MB 530.7 kB/s eta 0:00:02\n",
            "   -------------------- ------------------- 0.6/1.1 MB 537.9 kB/s eta 0:00:02\n",
            "   --------------------- ------------------ 0.6/1.1 MB 541.4 kB/s eta 0:00:01\n",
            "   ---------------------- ----------------- 0.6/1.1 MB 538.9 kB/s eta 0:00:01\n",
            "   ----------------------- ---------------- 0.6/1.1 MB 549.2 kB/s eta 0:00:01\n",
            "   ------------------------ --------------- 0.7/1.1 MB 553.3 kB/s eta 0:00:01\n",
            "   ------------------------- -------------- 0.7/1.1 MB 550.5 kB/s eta 0:00:01\n",
            "   -------------------------- ------------- 0.7/1.1 MB 562.0 kB/s eta 0:00:01\n",
            "   --------------------------- ------------ 0.8/1.1 MB 565.1 kB/s eta 0:00:01\n",
            "   ----------------------------- ---------- 0.8/1.1 MB 568.1 kB/s eta 0:00:01\n",
            "   ----------------------------- ---------- 0.8/1.1 MB 570.1 kB/s eta 0:00:01\n",
            "   ------------------------------ --------- 0.8/1.1 MB 565.8 kB/s eta 0:00:01\n",
            "   ------------------------------- -------- 0.9/1.1 MB 568.5 kB/s eta 0:00:01\n",
            "   --------------------------------- ------ 0.9/1.1 MB 572.1 kB/s eta 0:00:01\n",
            "   ---------------------------------- ----- 1.0/1.1 MB 574.4 kB/s eta 0:00:01\n",
            "   ----------------------------------- ---- 1.0/1.1 MB 581.8 kB/s eta 0:00:01\n",
            "   ------------------------------------ --- 1.0/1.1 MB 578.7 kB/s eta 0:00:01\n",
            "   ------------------------------------- -- 1.0/1.1 MB 580.7 kB/s eta 0:00:01\n",
            "   -------------------------------------- - 1.1/1.1 MB 582.1 kB/s eta 0:00:01\n",
            "   ---------------------------------------  1.1/1.1 MB 584.4 kB/s eta 0:00:01\n",
            "   ---------------------------------------- 1.1/1.1 MB 584.3 kB/s eta 0:00:00\n",
            "Downloading ml_dtypes-0.4.0-cp310-cp310-win_amd64.whl (126 kB)\n",
            "   ---------------------------------------- 0.0/126.6 kB ? eta -:--:--\n",
            "   --------- ------------------------------ 30.7/126.6 kB 1.3 MB/s eta 0:00:01\n",
            "   ------------------ -------------------- 61.4/126.6 kB 825.8 kB/s eta 0:00:01\n",
            "   --------------------------------- ---- 112.6/126.6 kB 819.2 kB/s eta 0:00:01\n",
            "   -------------------------------------- 126.6/126.6 kB 825.4 kB/s eta 0:00:00\n",
            "Downloading namex-0.0.8-py3-none-any.whl (5.8 kB)\n",
            "Downloading optree-0.11.0-cp310-cp310-win_amd64.whl (243 kB)\n",
            "   ---------------------------------------- 0.0/243.8 kB ? eta -:--:--\n",
            "   ----- ---------------------------------- 30.7/243.8 kB 1.3 MB/s eta 0:00:01\n",
            "   ----------- --------------------------- 71.7/243.8 kB 975.2 kB/s eta 0:00:01\n",
            "   -------------------- ------------------- 122.9/243.8 kB 1.0 MB/s eta 0:00:01\n",
            "   ------------------------- -------------- 153.6/243.8 kB 1.0 MB/s eta 0:00:01\n",
            "   ---------------------------- --------- 184.3/243.8 kB 853.3 kB/s eta 0:00:01\n",
            "   ----------------------------------- -- 225.3/243.8 kB 915.1 kB/s eta 0:00:01\n",
            "   -------------------------------------- 243.8/243.8 kB 746.1 kB/s eta 0:00:00\n",
            "Downloading rich-13.7.1-py3-none-any.whl (240 kB)\n",
            "   ---------------------------------------- 0.0/240.7 kB ? eta -:--:--\n",
            "   ----- ---------------------------------- 30.7/240.7 kB 1.3 MB/s eta 0:00:01\n",
            "   ----------- --------------------------- 71.7/240.7 kB 975.2 kB/s eta 0:00:01\n",
            "   -------------------- ------------------- 122.9/240.7 kB 1.0 MB/s eta 0:00:01\n",
            "   ------------------------ ------------- 153.6/240.7 kB 919.0 kB/s eta 0:00:01\n",
            "   ------------------------------ ------- 194.6/240.7 kB 980.4 kB/s eta 0:00:01\n",
            "   -------------------------------------  235.5/240.7 kB 901.1 kB/s eta 0:00:01\n",
            "   -------------------------------------- 240.7/240.7 kB 866.3 kB/s eta 0:00:00\n",
            "Downloading markdown_it_py-3.0.0-py3-none-any.whl (87 kB)\n",
            "   ---------------------------------------- 0.0/87.5 kB ? eta -:--:--\n",
            "   ------------------ --------------------- 41.0/87.5 kB 960.0 kB/s eta 0:00:01\n",
            "   ---------------------------------------- 87.5/87.5 kB 978.3 kB/s eta 0:00:00\n",
            "Downloading mdurl-0.1.2-py3-none-any.whl (10.0 kB)\n",
            "Installing collected packages: namex, optree, ml-dtypes, mdurl, markdown-it-py, rich, keras\n",
            "  Attempting uninstall: keras\n",
            "    Found existing installation: keras 2.10.0\n",
            "    Uninstalling keras-2.10.0:\n",
            "      Successfully uninstalled keras-2.10.0\n",
            "Successfully installed keras-3.3.3 markdown-it-py-3.0.0 mdurl-0.1.2 ml-dtypes-0.4.0 namex-0.0.8 optree-0.11.0 rich-13.7.1\n",
            "Note: you may need to restart the kernel to use updated packages.\n"
          ]
        },
        {
          "name": "stderr",
          "output_type": "stream",
          "text": [
            "ERROR: pip's dependency resolver does not currently take into account all the packages that are installed. This behaviour is the source of the following dependency conflicts.\n",
            "tensorflow 2.10.0 requires keras<2.11,>=2.10.0, but you have keras 3.3.3 which is incompatible.\n"
          ]
        }
      ],
      "source": [
        "pip install --upgrade keras"
      ]
    },
    {
      "cell_type": "code",
      "execution_count": 56,
      "metadata": {
        "id": "HiLeRobhDeoz"
      },
      "outputs": [],
      "source": [
        "model2.compile(optimizer=keras.optimizers.Adam(\n",
        "  learning_rate=0.0009,\n",
        "  beta_1=0.9,\n",
        "  beta_2=0.999,\n",
        "  epsilon=1e-07,\n",
        "  amsgrad=False,\n",
        "  decay=1e-6,\n",
        "), loss='binary_crossentropy', metrics=['accuracy'])\n"
      ]
    },
    {
      "cell_type": "code",
      "execution_count": 57,
      "metadata": {
        "colab": {
          "base_uri": "https://localhost:8080/"
        },
        "id": "3Sf2gQXIDl79",
        "outputId": "c4a0e6e4-a902-4ed8-ef89-4c3793b54154"
      },
      "outputs": [
        {
          "name": "stdout",
          "output_type": "stream",
          "text": [
            "Epoch 1/250\n",
            "31/31 [==============================] - 1s 15ms/step - loss: 1.9880 - accuracy: 0.4677 - val_loss: 1.5750 - val_accuracy: 0.4744\n",
            "Epoch 2/250\n",
            "31/31 [==============================] - 0s 11ms/step - loss: 1.3120 - accuracy: 0.5677 - val_loss: 1.0901 - val_accuracy: 0.5897\n",
            "Epoch 3/250\n",
            "31/31 [==============================] - 0s 11ms/step - loss: 0.9335 - accuracy: 0.6581 - val_loss: 0.8334 - val_accuracy: 0.5769\n",
            "Epoch 4/250\n",
            "31/31 [==============================] - 0s 7ms/step - loss: 0.7136 - accuracy: 0.7258 - val_loss: 0.7220 - val_accuracy: 0.6923\n",
            "Epoch 5/250\n",
            "31/31 [==============================] - 0s 8ms/step - loss: 0.6027 - accuracy: 0.7548 - val_loss: 0.6480 - val_accuracy: 0.7436\n",
            "Epoch 6/250\n",
            "31/31 [==============================] - 0s 8ms/step - loss: 0.5282 - accuracy: 0.7903 - val_loss: 0.8086 - val_accuracy: 0.6410\n",
            "Epoch 7/250\n",
            "31/31 [==============================] - 0s 8ms/step - loss: 0.5469 - accuracy: 0.7839 - val_loss: 0.6520 - val_accuracy: 0.6667\n",
            "Epoch 8/250\n",
            "31/31 [==============================] - 0s 8ms/step - loss: 0.4712 - accuracy: 0.8194 - val_loss: 0.6429 - val_accuracy: 0.7179\n",
            "Epoch 9/250\n",
            "31/31 [==============================] - 0s 8ms/step - loss: 0.4724 - accuracy: 0.8258 - val_loss: 0.6116 - val_accuracy: 0.8333\n",
            "Epoch 10/250\n",
            "31/31 [==============================] - 0s 8ms/step - loss: 0.4239 - accuracy: 0.8742 - val_loss: 0.5925 - val_accuracy: 0.7821\n",
            "Epoch 11/250\n",
            "31/31 [==============================] - 0s 8ms/step - loss: 0.4335 - accuracy: 0.8613 - val_loss: 0.6035 - val_accuracy: 0.7692\n",
            "Epoch 12/250\n",
            "31/31 [==============================] - 0s 8ms/step - loss: 0.3798 - accuracy: 0.8645 - val_loss: 0.6245 - val_accuracy: 0.8205\n",
            "Epoch 13/250\n",
            "31/31 [==============================] - 0s 8ms/step - loss: 0.3505 - accuracy: 0.8968 - val_loss: 0.6075 - val_accuracy: 0.7692\n",
            "Epoch 14/250\n",
            "31/31 [==============================] - 0s 8ms/step - loss: 0.3493 - accuracy: 0.8935 - val_loss: 0.5920 - val_accuracy: 0.8590\n",
            "Epoch 15/250\n",
            "31/31 [==============================] - 0s 8ms/step - loss: 0.3497 - accuracy: 0.8903 - val_loss: 0.6537 - val_accuracy: 0.8077\n",
            "Epoch 16/250\n",
            "31/31 [==============================] - 0s 7ms/step - loss: 0.3390 - accuracy: 0.9226 - val_loss: 0.6275 - val_accuracy: 0.8333\n",
            "Epoch 17/250\n",
            "31/31 [==============================] - 0s 8ms/step - loss: 0.3429 - accuracy: 0.8968 - val_loss: 0.5969 - val_accuracy: 0.8590\n",
            "Epoch 18/250\n",
            "31/31 [==============================] - 0s 7ms/step - loss: 0.2403 - accuracy: 0.9484 - val_loss: 0.7309 - val_accuracy: 0.8590\n",
            "Epoch 19/250\n",
            "31/31 [==============================] - 0s 8ms/step - loss: 0.2924 - accuracy: 0.9323 - val_loss: 0.6006 - val_accuracy: 0.8718\n",
            "Epoch 20/250\n",
            "31/31 [==============================] - 0s 8ms/step - loss: 0.3213 - accuracy: 0.9194 - val_loss: 0.5641 - val_accuracy: 0.8718\n",
            "Epoch 21/250\n",
            "31/31 [==============================] - 0s 8ms/step - loss: 0.2843 - accuracy: 0.9387 - val_loss: 0.6190 - val_accuracy: 0.8718\n",
            "Epoch 22/250\n",
            "31/31 [==============================] - 0s 8ms/step - loss: 0.3298 - accuracy: 0.9290 - val_loss: 0.6368 - val_accuracy: 0.8077\n",
            "Epoch 23/250\n",
            "31/31 [==============================] - 0s 8ms/step - loss: 0.3380 - accuracy: 0.9194 - val_loss: 0.7478 - val_accuracy: 0.8718\n",
            "Epoch 24/250\n",
            "31/31 [==============================] - 0s 8ms/step - loss: 0.2579 - accuracy: 0.9581 - val_loss: 0.6356 - val_accuracy: 0.8333\n",
            "Epoch 25/250\n",
            "31/31 [==============================] - 0s 7ms/step - loss: 0.2651 - accuracy: 0.9419 - val_loss: 0.5061 - val_accuracy: 0.8718\n",
            "Epoch 26/250\n",
            "31/31 [==============================] - 0s 8ms/step - loss: 0.2356 - accuracy: 0.9613 - val_loss: 0.4864 - val_accuracy: 0.8974\n",
            "Epoch 27/250\n",
            "31/31 [==============================] - 0s 8ms/step - loss: 0.2440 - accuracy: 0.9516 - val_loss: 0.6037 - val_accuracy: 0.8462\n",
            "Epoch 28/250\n",
            "31/31 [==============================] - 0s 8ms/step - loss: 0.2390 - accuracy: 0.9581 - val_loss: 0.6242 - val_accuracy: 0.8846\n",
            "Epoch 29/250\n",
            "31/31 [==============================] - 0s 8ms/step - loss: 0.2041 - accuracy: 0.9645 - val_loss: 0.5157 - val_accuracy: 0.9103\n",
            "Epoch 30/250\n",
            "31/31 [==============================] - 0s 8ms/step - loss: 0.2682 - accuracy: 0.9387 - val_loss: 0.6283 - val_accuracy: 0.8462\n",
            "Epoch 31/250\n",
            "31/31 [==============================] - 0s 8ms/step - loss: 0.2981 - accuracy: 0.9419 - val_loss: 0.5944 - val_accuracy: 0.8462\n",
            "Epoch 32/250\n",
            "31/31 [==============================] - 0s 7ms/step - loss: 0.2164 - accuracy: 0.9742 - val_loss: 0.5542 - val_accuracy: 0.8974\n",
            "Epoch 33/250\n",
            "31/31 [==============================] - 0s 8ms/step - loss: 0.1741 - accuracy: 0.9806 - val_loss: 0.6660 - val_accuracy: 0.8718\n",
            "Epoch 34/250\n",
            "31/31 [==============================] - 0s 8ms/step - loss: 0.2262 - accuracy: 0.9710 - val_loss: 0.7997 - val_accuracy: 0.8590\n",
            "Epoch 35/250\n",
            "31/31 [==============================] - 0s 8ms/step - loss: 0.1702 - accuracy: 0.9774 - val_loss: 0.6684 - val_accuracy: 0.8846\n",
            "Epoch 36/250\n",
            "31/31 [==============================] - 0s 8ms/step - loss: 0.1632 - accuracy: 0.9774 - val_loss: 0.7715 - val_accuracy: 0.8718\n",
            "Epoch 37/250\n",
            "31/31 [==============================] - 0s 8ms/step - loss: 0.1887 - accuracy: 0.9774 - val_loss: 0.7927 - val_accuracy: 0.8846\n",
            "Epoch 38/250\n",
            "31/31 [==============================] - 0s 7ms/step - loss: 0.3063 - accuracy: 0.9548 - val_loss: 0.6884 - val_accuracy: 0.8718\n",
            "Epoch 39/250\n",
            "31/31 [==============================] - 0s 8ms/step - loss: 0.2163 - accuracy: 0.9742 - val_loss: 0.6936 - val_accuracy: 0.8590\n",
            "Epoch 40/250\n",
            "31/31 [==============================] - 0s 8ms/step - loss: 0.2096 - accuracy: 0.9645 - val_loss: 0.6155 - val_accuracy: 0.9103\n",
            "Epoch 41/250\n",
            "31/31 [==============================] - 0s 8ms/step - loss: 0.3192 - accuracy: 0.9419 - val_loss: 0.6237 - val_accuracy: 0.8718\n",
            "Epoch 42/250\n",
            "31/31 [==============================] - 0s 8ms/step - loss: 0.2520 - accuracy: 0.9484 - val_loss: 0.6672 - val_accuracy: 0.8590\n",
            "Epoch 43/250\n",
            "31/31 [==============================] - 0s 8ms/step - loss: 0.2019 - accuracy: 0.9742 - val_loss: 0.7259 - val_accuracy: 0.8718\n",
            "Epoch 44/250\n",
            "31/31 [==============================] - 0s 8ms/step - loss: 0.1807 - accuracy: 0.9839 - val_loss: 0.8148 - val_accuracy: 0.8718\n",
            "Epoch 45/250\n",
            "31/31 [==============================] - 0s 8ms/step - loss: 0.1848 - accuracy: 0.9742 - val_loss: 0.9019 - val_accuracy: 0.8846\n",
            "Epoch 46/250\n",
            "31/31 [==============================] - 0s 8ms/step - loss: 0.1940 - accuracy: 0.9710 - val_loss: 0.9446 - val_accuracy: 0.8462\n",
            "Epoch 47/250\n",
            "31/31 [==============================] - 0s 7ms/step - loss: 0.1884 - accuracy: 0.9806 - val_loss: 0.7671 - val_accuracy: 0.8718\n",
            "Epoch 48/250\n",
            "31/31 [==============================] - 0s 8ms/step - loss: 0.2227 - accuracy: 0.9710 - val_loss: 0.7842 - val_accuracy: 0.8590\n",
            "Epoch 49/250\n",
            "31/31 [==============================] - 0s 8ms/step - loss: 0.2045 - accuracy: 0.9645 - val_loss: 0.9402 - val_accuracy: 0.8718\n",
            "Epoch 50/250\n",
            "31/31 [==============================] - 0s 8ms/step - loss: 0.2429 - accuracy: 0.9516 - val_loss: 0.9648 - val_accuracy: 0.8590\n",
            "Epoch 51/250\n",
            "31/31 [==============================] - 0s 8ms/step - loss: 0.3172 - accuracy: 0.9742 - val_loss: 0.7638 - val_accuracy: 0.8590\n",
            "Epoch 52/250\n",
            "31/31 [==============================] - 0s 8ms/step - loss: 0.2385 - accuracy: 0.9677 - val_loss: 0.7225 - val_accuracy: 0.8333\n",
            "Epoch 53/250\n",
            "31/31 [==============================] - 0s 8ms/step - loss: 0.1968 - accuracy: 0.9710 - val_loss: 0.8019 - val_accuracy: 0.8590\n",
            "Epoch 54/250\n",
            "31/31 [==============================] - 0s 8ms/step - loss: 0.2309 - accuracy: 0.9677 - val_loss: 0.6669 - val_accuracy: 0.8846\n",
            "Epoch 55/250\n",
            "31/31 [==============================] - 0s 8ms/step - loss: 0.1863 - accuracy: 0.9677 - val_loss: 0.8003 - val_accuracy: 0.8718\n",
            "Epoch 56/250\n",
            "31/31 [==============================] - 0s 8ms/step - loss: 0.1635 - accuracy: 0.9839 - val_loss: 0.6944 - val_accuracy: 0.8974\n",
            "Epoch 57/250\n",
            "31/31 [==============================] - 0s 8ms/step - loss: 0.1540 - accuracy: 0.9839 - val_loss: 0.9159 - val_accuracy: 0.8846\n",
            "Epoch 58/250\n",
            "31/31 [==============================] - 0s 8ms/step - loss: 0.1467 - accuracy: 0.9871 - val_loss: 0.6453 - val_accuracy: 0.8846\n",
            "Epoch 59/250\n",
            "31/31 [==============================] - 0s 8ms/step - loss: 0.1848 - accuracy: 0.9774 - val_loss: 0.6552 - val_accuracy: 0.8590\n",
            "Epoch 60/250\n",
            "31/31 [==============================] - 0s 8ms/step - loss: 0.1769 - accuracy: 0.9774 - val_loss: 0.5056 - val_accuracy: 0.9359\n",
            "Epoch 61/250\n",
            "31/31 [==============================] - 0s 8ms/step - loss: 0.1820 - accuracy: 0.9742 - val_loss: 0.6798 - val_accuracy: 0.8718\n",
            "Epoch 62/250\n",
            "31/31 [==============================] - 0s 8ms/step - loss: 0.1612 - accuracy: 0.9806 - val_loss: 0.9792 - val_accuracy: 0.8846\n",
            "Epoch 63/250\n",
            "31/31 [==============================] - 0s 9ms/step - loss: 0.2137 - accuracy: 0.9677 - val_loss: 0.5920 - val_accuracy: 0.8718\n",
            "Epoch 64/250\n",
            "31/31 [==============================] - 0s 8ms/step - loss: 0.2165 - accuracy: 0.9452 - val_loss: 0.4653 - val_accuracy: 0.9103\n",
            "Epoch 65/250\n",
            "31/31 [==============================] - 0s 8ms/step - loss: 0.1841 - accuracy: 0.9806 - val_loss: 0.9388 - val_accuracy: 0.8590\n",
            "Epoch 66/250\n",
            "31/31 [==============================] - 0s 8ms/step - loss: 0.2746 - accuracy: 0.9645 - val_loss: 0.6255 - val_accuracy: 0.8974\n",
            "Epoch 67/250\n",
            "31/31 [==============================] - 0s 7ms/step - loss: 0.2207 - accuracy: 0.9581 - val_loss: 0.6219 - val_accuracy: 0.9103\n",
            "Epoch 68/250\n",
            "31/31 [==============================] - 0s 8ms/step - loss: 0.1697 - accuracy: 0.9839 - val_loss: 0.7078 - val_accuracy: 0.8846\n",
            "Epoch 69/250\n",
            "31/31 [==============================] - 0s 8ms/step - loss: 0.1795 - accuracy: 0.9774 - val_loss: 0.5683 - val_accuracy: 0.8974\n",
            "Epoch 70/250\n",
            "31/31 [==============================] - 0s 7ms/step - loss: 0.2473 - accuracy: 0.9742 - val_loss: 0.5003 - val_accuracy: 0.9231\n",
            "Epoch 71/250\n",
            "31/31 [==============================] - 0s 7ms/step - loss: 0.1747 - accuracy: 0.9774 - val_loss: 0.5778 - val_accuracy: 0.9231\n",
            "Epoch 72/250\n",
            "31/31 [==============================] - 0s 8ms/step - loss: 0.1553 - accuracy: 0.9806 - val_loss: 0.6590 - val_accuracy: 0.9103\n",
            "Epoch 73/250\n",
            "31/31 [==============================] - 0s 8ms/step - loss: 0.1830 - accuracy: 0.9742 - val_loss: 0.6834 - val_accuracy: 0.8974\n",
            "Epoch 74/250\n",
            "31/31 [==============================] - 0s 8ms/step - loss: 0.1486 - accuracy: 0.9806 - val_loss: 0.6890 - val_accuracy: 0.8974\n",
            "Epoch 75/250\n",
            "31/31 [==============================] - 0s 8ms/step - loss: 0.1400 - accuracy: 0.9871 - val_loss: 0.8234 - val_accuracy: 0.8974\n",
            "Epoch 76/250\n",
            "31/31 [==============================] - 0s 8ms/step - loss: 0.2042 - accuracy: 0.9677 - val_loss: 0.6403 - val_accuracy: 0.8974\n",
            "Epoch 77/250\n",
            "31/31 [==============================] - 0s 8ms/step - loss: 0.1718 - accuracy: 0.9774 - val_loss: 0.5525 - val_accuracy: 0.9359\n",
            "Epoch 78/250\n",
            "31/31 [==============================] - 0s 8ms/step - loss: 0.1616 - accuracy: 0.9806 - val_loss: 0.5854 - val_accuracy: 0.9359\n",
            "Epoch 79/250\n",
            "31/31 [==============================] - 0s 8ms/step - loss: 0.1796 - accuracy: 0.9710 - val_loss: 0.7959 - val_accuracy: 0.8718\n",
            "Epoch 80/250\n",
            "31/31 [==============================] - 0s 7ms/step - loss: 0.2426 - accuracy: 0.9548 - val_loss: 0.5801 - val_accuracy: 0.9103\n",
            "Epoch 81/250\n",
            "31/31 [==============================] - 0s 8ms/step - loss: 0.2365 - accuracy: 0.9581 - val_loss: 0.6147 - val_accuracy: 0.8974\n",
            "Epoch 82/250\n",
            "31/31 [==============================] - 0s 8ms/step - loss: 0.2260 - accuracy: 0.9677 - val_loss: 0.6873 - val_accuracy: 0.8333\n",
            "Epoch 83/250\n",
            "31/31 [==============================] - 0s 8ms/step - loss: 0.2206 - accuracy: 0.9806 - val_loss: 0.6898 - val_accuracy: 0.8718\n",
            "Epoch 84/250\n",
            "31/31 [==============================] - 0s 8ms/step - loss: 0.1764 - accuracy: 0.9742 - val_loss: 0.6733 - val_accuracy: 0.8974\n",
            "Epoch 85/250\n",
            "31/31 [==============================] - 0s 8ms/step - loss: 0.1570 - accuracy: 0.9871 - val_loss: 0.6633 - val_accuracy: 0.8974\n",
            "Epoch 86/250\n",
            "31/31 [==============================] - 0s 7ms/step - loss: 0.1525 - accuracy: 0.9839 - val_loss: 0.8498 - val_accuracy: 0.8718\n",
            "Epoch 87/250\n",
            "31/31 [==============================] - 0s 7ms/step - loss: 0.1443 - accuracy: 0.9839 - val_loss: 0.6822 - val_accuracy: 0.8974\n",
            "Epoch 88/250\n",
            "31/31 [==============================] - 0s 7ms/step - loss: 0.1541 - accuracy: 0.9871 - val_loss: 0.9043 - val_accuracy: 0.8846\n",
            "Epoch 89/250\n",
            "31/31 [==============================] - 0s 7ms/step - loss: 0.1330 - accuracy: 0.9903 - val_loss: 0.8571 - val_accuracy: 0.8846\n",
            "Epoch 90/250\n",
            "31/31 [==============================] - 0s 8ms/step - loss: 0.1701 - accuracy: 0.9774 - val_loss: 0.9658 - val_accuracy: 0.8718\n",
            "Epoch 91/250\n",
            "31/31 [==============================] - 0s 7ms/step - loss: 0.1406 - accuracy: 0.9839 - val_loss: 1.1430 - val_accuracy: 0.8333\n",
            "Epoch 92/250\n",
            "31/31 [==============================] - 0s 7ms/step - loss: 0.1297 - accuracy: 0.9871 - val_loss: 0.8152 - val_accuracy: 0.8846\n",
            "Epoch 93/250\n",
            "31/31 [==============================] - 0s 8ms/step - loss: 0.1432 - accuracy: 0.9871 - val_loss: 1.0951 - val_accuracy: 0.8462\n",
            "Epoch 94/250\n",
            "31/31 [==============================] - 0s 8ms/step - loss: 0.1769 - accuracy: 0.9613 - val_loss: 1.0524 - val_accuracy: 0.8718\n",
            "Epoch 95/250\n",
            "31/31 [==============================] - 0s 7ms/step - loss: 0.2375 - accuracy: 0.9613 - val_loss: 0.6735 - val_accuracy: 0.8974\n",
            "Epoch 96/250\n",
            "31/31 [==============================] - 0s 7ms/step - loss: 0.2294 - accuracy: 0.9484 - val_loss: 0.5689 - val_accuracy: 0.8974\n",
            "Epoch 97/250\n",
            "31/31 [==============================] - 0s 7ms/step - loss: 0.1900 - accuracy: 0.9742 - val_loss: 0.7316 - val_accuracy: 0.9103\n",
            "Epoch 98/250\n",
            "31/31 [==============================] - 0s 7ms/step - loss: 0.1604 - accuracy: 0.9839 - val_loss: 0.6230 - val_accuracy: 0.8846\n",
            "Epoch 99/250\n",
            "31/31 [==============================] - 0s 8ms/step - loss: 0.1319 - accuracy: 0.9903 - val_loss: 0.7573 - val_accuracy: 0.8846\n",
            "Epoch 100/250\n",
            "31/31 [==============================] - 0s 8ms/step - loss: 0.1376 - accuracy: 0.9871 - val_loss: 0.8652 - val_accuracy: 0.8718\n",
            "Epoch 101/250\n",
            "31/31 [==============================] - 0s 8ms/step - loss: 0.1515 - accuracy: 0.9710 - val_loss: 0.6036 - val_accuracy: 0.9231\n",
            "Epoch 102/250\n",
            "31/31 [==============================] - 0s 7ms/step - loss: 0.1344 - accuracy: 0.9871 - val_loss: 0.7878 - val_accuracy: 0.8974\n",
            "Epoch 103/250\n",
            "31/31 [==============================] - 0s 8ms/step - loss: 0.1254 - accuracy: 0.9903 - val_loss: 0.8438 - val_accuracy: 0.8846\n",
            "Epoch 104/250\n",
            "31/31 [==============================] - 0s 8ms/step - loss: 0.1397 - accuracy: 0.9774 - val_loss: 0.6939 - val_accuracy: 0.9231\n",
            "Epoch 105/250\n",
            "31/31 [==============================] - 0s 7ms/step - loss: 0.1666 - accuracy: 0.9806 - val_loss: 0.9406 - val_accuracy: 0.8462\n",
            "Epoch 106/250\n",
            "31/31 [==============================] - 0s 8ms/step - loss: 0.1532 - accuracy: 0.9806 - val_loss: 0.7231 - val_accuracy: 0.8846\n",
            "Epoch 107/250\n",
            "31/31 [==============================] - 0s 8ms/step - loss: 0.1600 - accuracy: 0.9710 - val_loss: 0.8679 - val_accuracy: 0.8462\n",
            "Epoch 108/250\n",
            "31/31 [==============================] - 0s 9ms/step - loss: 0.2245 - accuracy: 0.9548 - val_loss: 0.6427 - val_accuracy: 0.8462\n",
            "Epoch 109/250\n",
            "31/31 [==============================] - 0s 8ms/step - loss: 0.1477 - accuracy: 0.9774 - val_loss: 0.6547 - val_accuracy: 0.8846\n",
            "Epoch 110/250\n",
            "31/31 [==============================] - 0s 8ms/step - loss: 0.1331 - accuracy: 0.9839 - val_loss: 0.6494 - val_accuracy: 0.8974\n",
            "Epoch 111/250\n",
            "31/31 [==============================] - 0s 8ms/step - loss: 0.1365 - accuracy: 0.9839 - val_loss: 0.7040 - val_accuracy: 0.8846\n",
            "Epoch 112/250\n",
            "31/31 [==============================] - 0s 8ms/step - loss: 0.1170 - accuracy: 0.9871 - val_loss: 0.7673 - val_accuracy: 0.8718\n",
            "Epoch 113/250\n",
            "31/31 [==============================] - 0s 7ms/step - loss: 0.1202 - accuracy: 0.9871 - val_loss: 0.6452 - val_accuracy: 0.8974\n",
            "Epoch 114/250\n",
            "31/31 [==============================] - 0s 7ms/step - loss: 0.1088 - accuracy: 0.9903 - val_loss: 0.7269 - val_accuracy: 0.8718\n",
            "Epoch 115/250\n",
            "31/31 [==============================] - 0s 8ms/step - loss: 0.1023 - accuracy: 0.9903 - val_loss: 0.8027 - val_accuracy: 0.8718\n",
            "Epoch 116/250\n",
            "31/31 [==============================] - 0s 7ms/step - loss: 0.1021 - accuracy: 0.9903 - val_loss: 0.8105 - val_accuracy: 0.8718\n",
            "Epoch 117/250\n",
            "31/31 [==============================] - 0s 7ms/step - loss: 0.0972 - accuracy: 0.9903 - val_loss: 0.7891 - val_accuracy: 0.8846\n",
            "Epoch 118/250\n",
            "31/31 [==============================] - 0s 7ms/step - loss: 0.0929 - accuracy: 0.9903 - val_loss: 0.8233 - val_accuracy: 0.8846\n",
            "Epoch 119/250\n",
            "31/31 [==============================] - 0s 8ms/step - loss: 0.0926 - accuracy: 0.9903 - val_loss: 0.8394 - val_accuracy: 0.8846\n",
            "Epoch 120/250\n",
            "31/31 [==============================] - 0s 8ms/step - loss: 0.0943 - accuracy: 0.9903 - val_loss: 0.8111 - val_accuracy: 0.8718\n",
            "Epoch 121/250\n",
            "31/31 [==============================] - 0s 7ms/step - loss: 0.1314 - accuracy: 0.9806 - val_loss: 0.7095 - val_accuracy: 0.8846\n",
            "Epoch 122/250\n",
            "31/31 [==============================] - 0s 8ms/step - loss: 0.2298 - accuracy: 0.9484 - val_loss: 0.7946 - val_accuracy: 0.8333\n",
            "Epoch 123/250\n",
            "31/31 [==============================] - 0s 7ms/step - loss: 0.1974 - accuracy: 0.9645 - val_loss: 1.1256 - val_accuracy: 0.8590\n",
            "Epoch 124/250\n",
            "31/31 [==============================] - 0s 7ms/step - loss: 0.2452 - accuracy: 0.9452 - val_loss: 0.6482 - val_accuracy: 0.8846\n",
            "Epoch 125/250\n",
            "31/31 [==============================] - 0s 8ms/step - loss: 0.1770 - accuracy: 0.9645 - val_loss: 0.7064 - val_accuracy: 0.8846\n",
            "Epoch 126/250\n",
            "31/31 [==============================] - 0s 7ms/step - loss: 0.1268 - accuracy: 0.9903 - val_loss: 0.8477 - val_accuracy: 0.8974\n",
            "Epoch 127/250\n",
            "31/31 [==============================] - 0s 7ms/step - loss: 0.1274 - accuracy: 0.9839 - val_loss: 0.8188 - val_accuracy: 0.9103\n",
            "Epoch 128/250\n",
            "31/31 [==============================] - 0s 7ms/step - loss: 0.1642 - accuracy: 0.9677 - val_loss: 1.0554 - val_accuracy: 0.8590\n",
            "Epoch 129/250\n",
            "31/31 [==============================] - 0s 8ms/step - loss: 0.1697 - accuracy: 0.9742 - val_loss: 0.6648 - val_accuracy: 0.8846\n",
            "Epoch 130/250\n",
            "31/31 [==============================] - 0s 8ms/step - loss: 0.1522 - accuracy: 0.9710 - val_loss: 0.7321 - val_accuracy: 0.8974\n",
            "Epoch 131/250\n",
            "31/31 [==============================] - 0s 8ms/step - loss: 0.1386 - accuracy: 0.9774 - val_loss: 0.8484 - val_accuracy: 0.8718\n",
            "Epoch 132/250\n",
            "31/31 [==============================] - 0s 8ms/step - loss: 0.1659 - accuracy: 0.9742 - val_loss: 0.5943 - val_accuracy: 0.9231\n",
            "Epoch 133/250\n",
            "31/31 [==============================] - 0s 8ms/step - loss: 0.1382 - accuracy: 0.9806 - val_loss: 0.6907 - val_accuracy: 0.9231\n",
            "Epoch 134/250\n",
            "31/31 [==============================] - 0s 7ms/step - loss: 0.1762 - accuracy: 0.9677 - val_loss: 0.6935 - val_accuracy: 0.8974\n",
            "Epoch 135/250\n",
            "31/31 [==============================] - 0s 7ms/step - loss: 0.2899 - accuracy: 0.9484 - val_loss: 0.6822 - val_accuracy: 0.8590\n",
            "Epoch 136/250\n",
            "31/31 [==============================] - 0s 7ms/step - loss: 0.1814 - accuracy: 0.9645 - val_loss: 0.6262 - val_accuracy: 0.9487\n",
            "Epoch 137/250\n",
            "31/31 [==============================] - 0s 8ms/step - loss: 0.1737 - accuracy: 0.9742 - val_loss: 0.6881 - val_accuracy: 0.9359\n",
            "Epoch 138/250\n",
            "31/31 [==============================] - 0s 8ms/step - loss: 0.1614 - accuracy: 0.9645 - val_loss: 0.6620 - val_accuracy: 0.9103\n",
            "Epoch 139/250\n",
            "31/31 [==============================] - 0s 8ms/step - loss: 0.2450 - accuracy: 0.9613 - val_loss: 0.7407 - val_accuracy: 0.8718\n",
            "Epoch 140/250\n",
            "31/31 [==============================] - 0s 8ms/step - loss: 0.1802 - accuracy: 0.9774 - val_loss: 0.7923 - val_accuracy: 0.9103\n",
            "Epoch 141/250\n",
            "31/31 [==============================] - 0s 8ms/step - loss: 0.1646 - accuracy: 0.9774 - val_loss: 0.6962 - val_accuracy: 0.8974\n",
            "Epoch 142/250\n",
            "31/31 [==============================] - 0s 8ms/step - loss: 0.1465 - accuracy: 0.9871 - val_loss: 0.7310 - val_accuracy: 0.9103\n",
            "Epoch 143/250\n",
            "31/31 [==============================] - 0s 8ms/step - loss: 0.1307 - accuracy: 0.9903 - val_loss: 0.9568 - val_accuracy: 0.8974\n",
            "Epoch 144/250\n",
            "31/31 [==============================] - 0s 8ms/step - loss: 0.1316 - accuracy: 0.9871 - val_loss: 0.9498 - val_accuracy: 0.9103\n",
            "Epoch 145/250\n",
            "31/31 [==============================] - 0s 8ms/step - loss: 0.1470 - accuracy: 0.9774 - val_loss: 0.9640 - val_accuracy: 0.8590\n",
            "Epoch 146/250\n",
            "31/31 [==============================] - 0s 7ms/step - loss: 0.1353 - accuracy: 0.9806 - val_loss: 0.9506 - val_accuracy: 0.8846\n",
            "Epoch 147/250\n",
            "31/31 [==============================] - 0s 8ms/step - loss: 0.1270 - accuracy: 0.9871 - val_loss: 0.9067 - val_accuracy: 0.8974\n",
            "Epoch 148/250\n",
            "31/31 [==============================] - 0s 7ms/step - loss: 0.1098 - accuracy: 0.9903 - val_loss: 0.9388 - val_accuracy: 0.8974\n",
            "Epoch 149/250\n",
            "31/31 [==============================] - 0s 8ms/step - loss: 0.1368 - accuracy: 0.9871 - val_loss: 0.8924 - val_accuracy: 0.9103\n",
            "Epoch 150/250\n",
            "31/31 [==============================] - 0s 7ms/step - loss: 0.1145 - accuracy: 0.9839 - val_loss: 0.8275 - val_accuracy: 0.8846\n",
            "Epoch 151/250\n",
            "31/31 [==============================] - 0s 7ms/step - loss: 0.1125 - accuracy: 0.9871 - val_loss: 0.7736 - val_accuracy: 0.8974\n",
            "Epoch 152/250\n",
            "31/31 [==============================] - 0s 7ms/step - loss: 0.1396 - accuracy: 0.9710 - val_loss: 0.7838 - val_accuracy: 0.8590\n",
            "Epoch 153/250\n",
            "31/31 [==============================] - 0s 8ms/step - loss: 0.1906 - accuracy: 0.9516 - val_loss: 0.6928 - val_accuracy: 0.8590\n",
            "Epoch 154/250\n",
            "31/31 [==============================] - 0s 8ms/step - loss: 0.1730 - accuracy: 0.9581 - val_loss: 0.8343 - val_accuracy: 0.8333\n",
            "Epoch 155/250\n",
            "31/31 [==============================] - 0s 7ms/step - loss: 0.1985 - accuracy: 0.9548 - val_loss: 0.8558 - val_accuracy: 0.9103\n",
            "Epoch 156/250\n",
            "31/31 [==============================] - 0s 8ms/step - loss: 0.1645 - accuracy: 0.9710 - val_loss: 0.8519 - val_accuracy: 0.8974\n",
            "Epoch 157/250\n",
            "31/31 [==============================] - 0s 7ms/step - loss: 0.1492 - accuracy: 0.9742 - val_loss: 0.7846 - val_accuracy: 0.8846\n",
            "Epoch 158/250\n",
            "31/31 [==============================] - 0s 8ms/step - loss: 0.1258 - accuracy: 0.9871 - val_loss: 0.9319 - val_accuracy: 0.8718\n",
            "Epoch 159/250\n",
            "31/31 [==============================] - 0s 7ms/step - loss: 0.1251 - accuracy: 0.9839 - val_loss: 0.9539 - val_accuracy: 0.8846\n",
            "Epoch 160/250\n",
            "31/31 [==============================] - 0s 8ms/step - loss: 0.1878 - accuracy: 0.9677 - val_loss: 0.8681 - val_accuracy: 0.8462\n",
            "Epoch 161/250\n",
            "31/31 [==============================] - 0s 8ms/step - loss: 0.1635 - accuracy: 0.9710 - val_loss: 0.8867 - val_accuracy: 0.8718\n",
            "Epoch 162/250\n",
            "31/31 [==============================] - 0s 7ms/step - loss: 0.2219 - accuracy: 0.9710 - val_loss: 0.5535 - val_accuracy: 0.8718\n",
            "Epoch 163/250\n",
            "31/31 [==============================] - 0s 8ms/step - loss: 0.1905 - accuracy: 0.9613 - val_loss: 0.5813 - val_accuracy: 0.8974\n",
            "Epoch 164/250\n",
            "31/31 [==============================] - 0s 7ms/step - loss: 0.1341 - accuracy: 0.9839 - val_loss: 0.5774 - val_accuracy: 0.9103\n",
            "Epoch 165/250\n",
            "31/31 [==============================] - 0s 8ms/step - loss: 0.1385 - accuracy: 0.9871 - val_loss: 0.6432 - val_accuracy: 0.9103\n",
            "Epoch 166/250\n",
            "31/31 [==============================] - 0s 8ms/step - loss: 0.1710 - accuracy: 0.9774 - val_loss: 0.4724 - val_accuracy: 0.9359\n",
            "Epoch 167/250\n",
            "31/31 [==============================] - 0s 7ms/step - loss: 0.1427 - accuracy: 0.9806 - val_loss: 0.6034 - val_accuracy: 0.9231\n",
            "Epoch 168/250\n",
            "31/31 [==============================] - 0s 8ms/step - loss: 0.1256 - accuracy: 0.9871 - val_loss: 0.6881 - val_accuracy: 0.8974\n",
            "Epoch 169/250\n",
            "31/31 [==============================] - 0s 8ms/step - loss: 0.1956 - accuracy: 0.9581 - val_loss: 0.6607 - val_accuracy: 0.8590\n",
            "Epoch 170/250\n",
            "31/31 [==============================] - 0s 7ms/step - loss: 0.1397 - accuracy: 0.9806 - val_loss: 0.7666 - val_accuracy: 0.8846\n",
            "Epoch 171/250\n",
            "31/31 [==============================] - 0s 7ms/step - loss: 0.1575 - accuracy: 0.9839 - val_loss: 0.6506 - val_accuracy: 0.8974\n",
            "Epoch 172/250\n",
            "31/31 [==============================] - 0s 7ms/step - loss: 0.1566 - accuracy: 0.9774 - val_loss: 0.6300 - val_accuracy: 0.8718\n",
            "Epoch 173/250\n",
            "31/31 [==============================] - 0s 8ms/step - loss: 0.1249 - accuracy: 0.9871 - val_loss: 0.6551 - val_accuracy: 0.8974\n",
            "Epoch 174/250\n",
            "31/31 [==============================] - 0s 7ms/step - loss: 0.1246 - accuracy: 0.9871 - val_loss: 0.8041 - val_accuracy: 0.8846\n",
            "Epoch 175/250\n",
            "31/31 [==============================] - 0s 8ms/step - loss: 0.1127 - accuracy: 0.9839 - val_loss: 0.8029 - val_accuracy: 0.8846\n",
            "Epoch 176/250\n",
            "31/31 [==============================] - 0s 8ms/step - loss: 0.1076 - accuracy: 0.9903 - val_loss: 0.7695 - val_accuracy: 0.8846\n",
            "Epoch 177/250\n",
            "31/31 [==============================] - 0s 8ms/step - loss: 0.1578 - accuracy: 0.9806 - val_loss: 0.7547 - val_accuracy: 0.8846\n",
            "Epoch 178/250\n",
            "31/31 [==============================] - 0s 8ms/step - loss: 0.1156 - accuracy: 0.9839 - val_loss: 0.8885 - val_accuracy: 0.8846\n",
            "Epoch 179/250\n",
            "31/31 [==============================] - 0s 7ms/step - loss: 0.1127 - accuracy: 0.9871 - val_loss: 0.8007 - val_accuracy: 0.9103\n",
            "Epoch 180/250\n",
            "31/31 [==============================] - 0s 7ms/step - loss: 0.1039 - accuracy: 0.9871 - val_loss: 0.8663 - val_accuracy: 0.9103\n",
            "Epoch 181/250\n",
            "31/31 [==============================] - 0s 7ms/step - loss: 0.1184 - accuracy: 0.9839 - val_loss: 0.8037 - val_accuracy: 0.9103\n",
            "Epoch 182/250\n",
            "31/31 [==============================] - 0s 7ms/step - loss: 0.0962 - accuracy: 0.9903 - val_loss: 0.8139 - val_accuracy: 0.9103\n",
            "Epoch 183/250\n",
            "31/31 [==============================] - 0s 8ms/step - loss: 0.0964 - accuracy: 0.9903 - val_loss: 0.8102 - val_accuracy: 0.9103\n",
            "Epoch 184/250\n",
            "31/31 [==============================] - 0s 8ms/step - loss: 0.0952 - accuracy: 0.9871 - val_loss: 0.8270 - val_accuracy: 0.9103\n",
            "Epoch 185/250\n",
            "31/31 [==============================] - 0s 8ms/step - loss: 0.0898 - accuracy: 0.9903 - val_loss: 0.8369 - val_accuracy: 0.9103\n",
            "Epoch 186/250\n",
            "31/31 [==============================] - 0s 8ms/step - loss: 0.0881 - accuracy: 0.9871 - val_loss: 0.9079 - val_accuracy: 0.8718\n",
            "Epoch 187/250\n",
            "31/31 [==============================] - 0s 7ms/step - loss: 0.0903 - accuracy: 0.9871 - val_loss: 0.8749 - val_accuracy: 0.8846\n",
            "Epoch 188/250\n",
            "31/31 [==============================] - 0s 8ms/step - loss: 0.1723 - accuracy: 0.9710 - val_loss: 1.0152 - val_accuracy: 0.8718\n",
            "Epoch 189/250\n",
            "31/31 [==============================] - 0s 8ms/step - loss: 0.1562 - accuracy: 0.9645 - val_loss: 0.4693 - val_accuracy: 0.9103\n",
            "Epoch 190/250\n",
            "31/31 [==============================] - 0s 8ms/step - loss: 0.2075 - accuracy: 0.9548 - val_loss: 0.6175 - val_accuracy: 0.8846\n",
            "Epoch 191/250\n",
            "31/31 [==============================] - 0s 8ms/step - loss: 0.1790 - accuracy: 0.9645 - val_loss: 0.6315 - val_accuracy: 0.8974\n",
            "Epoch 192/250\n",
            "31/31 [==============================] - 0s 7ms/step - loss: 0.2017 - accuracy: 0.9677 - val_loss: 0.5349 - val_accuracy: 0.8974\n",
            "Epoch 193/250\n",
            "31/31 [==============================] - 0s 8ms/step - loss: 0.1347 - accuracy: 0.9806 - val_loss: 0.5058 - val_accuracy: 0.9231\n",
            "Epoch 194/250\n",
            "31/31 [==============================] - 0s 7ms/step - loss: 0.1164 - accuracy: 0.9871 - val_loss: 0.6015 - val_accuracy: 0.9103\n",
            "Epoch 195/250\n",
            "31/31 [==============================] - 0s 7ms/step - loss: 0.1380 - accuracy: 0.9742 - val_loss: 0.5537 - val_accuracy: 0.9359\n",
            "Epoch 196/250\n",
            "31/31 [==============================] - 0s 7ms/step - loss: 0.1920 - accuracy: 0.9516 - val_loss: 0.4930 - val_accuracy: 0.9103\n",
            "Epoch 197/250\n",
            "31/31 [==============================] - 0s 7ms/step - loss: 0.1419 - accuracy: 0.9742 - val_loss: 0.6322 - val_accuracy: 0.8974\n",
            "Epoch 198/250\n",
            "31/31 [==============================] - 0s 7ms/step - loss: 0.1240 - accuracy: 0.9839 - val_loss: 0.6177 - val_accuracy: 0.9359\n",
            "Epoch 199/250\n",
            "31/31 [==============================] - 0s 8ms/step - loss: 0.1432 - accuracy: 0.9742 - val_loss: 0.5672 - val_accuracy: 0.9103\n",
            "Epoch 200/250\n",
            "31/31 [==============================] - 0s 7ms/step - loss: 0.1103 - accuracy: 0.9903 - val_loss: 0.7460 - val_accuracy: 0.8974\n",
            "Epoch 201/250\n",
            "31/31 [==============================] - 0s 8ms/step - loss: 0.1035 - accuracy: 0.9903 - val_loss: 0.7903 - val_accuracy: 0.8974\n",
            "Epoch 202/250\n",
            "31/31 [==============================] - 0s 7ms/step - loss: 0.1563 - accuracy: 0.9806 - val_loss: 0.5919 - val_accuracy: 0.8974\n",
            "Epoch 203/250\n",
            "31/31 [==============================] - 0s 7ms/step - loss: 0.1243 - accuracy: 0.9871 - val_loss: 0.6129 - val_accuracy: 0.8846\n",
            "Epoch 204/250\n",
            "31/31 [==============================] - 0s 7ms/step - loss: 0.1455 - accuracy: 0.9710 - val_loss: 0.5169 - val_accuracy: 0.9231\n",
            "Epoch 205/250\n",
            "31/31 [==============================] - 0s 7ms/step - loss: 0.1386 - accuracy: 0.9774 - val_loss: 0.5213 - val_accuracy: 0.8846\n",
            "Epoch 206/250\n",
            "31/31 [==============================] - 0s 7ms/step - loss: 0.1307 - accuracy: 0.9806 - val_loss: 0.5765 - val_accuracy: 0.9359\n",
            "Epoch 207/250\n",
            "31/31 [==============================] - 0s 8ms/step - loss: 0.1250 - accuracy: 0.9774 - val_loss: 0.5278 - val_accuracy: 0.8974\n",
            "Epoch 208/250\n",
            "31/31 [==============================] - 0s 7ms/step - loss: 0.1353 - accuracy: 0.9742 - val_loss: 0.5731 - val_accuracy: 0.9103\n",
            "Epoch 209/250\n",
            "31/31 [==============================] - 0s 7ms/step - loss: 0.1441 - accuracy: 0.9742 - val_loss: 0.5160 - val_accuracy: 0.9231\n",
            "Epoch 210/250\n",
            "31/31 [==============================] - 0s 7ms/step - loss: 0.1066 - accuracy: 0.9903 - val_loss: 0.5257 - val_accuracy: 0.9231\n",
            "Epoch 211/250\n",
            "31/31 [==============================] - 0s 7ms/step - loss: 0.0981 - accuracy: 0.9871 - val_loss: 0.5812 - val_accuracy: 0.9487\n",
            "Epoch 212/250\n",
            "31/31 [==============================] - 0s 7ms/step - loss: 0.0939 - accuracy: 0.9871 - val_loss: 0.6236 - val_accuracy: 0.9487\n",
            "Epoch 213/250\n",
            "31/31 [==============================] - 0s 8ms/step - loss: 0.1091 - accuracy: 0.9871 - val_loss: 0.6817 - val_accuracy: 0.8846\n",
            "Epoch 214/250\n",
            "31/31 [==============================] - 0s 8ms/step - loss: 0.1657 - accuracy: 0.9677 - val_loss: 0.6426 - val_accuracy: 0.8846\n",
            "Epoch 215/250\n",
            "31/31 [==============================] - 0s 8ms/step - loss: 0.1172 - accuracy: 0.9774 - val_loss: 0.5582 - val_accuracy: 0.8846\n",
            "Epoch 216/250\n",
            "31/31 [==============================] - 0s 8ms/step - loss: 0.1167 - accuracy: 0.9839 - val_loss: 0.6190 - val_accuracy: 0.9103\n",
            "Epoch 217/250\n",
            "31/31 [==============================] - 0s 7ms/step - loss: 0.1014 - accuracy: 0.9806 - val_loss: 0.6727 - val_accuracy: 0.8846\n",
            "Epoch 218/250\n",
            "31/31 [==============================] - 0s 8ms/step - loss: 0.0863 - accuracy: 0.9903 - val_loss: 0.6979 - val_accuracy: 0.8974\n",
            "Epoch 219/250\n",
            "31/31 [==============================] - 0s 8ms/step - loss: 0.0957 - accuracy: 0.9871 - val_loss: 0.7824 - val_accuracy: 0.8846\n",
            "Epoch 220/250\n",
            "31/31 [==============================] - 0s 8ms/step - loss: 0.1177 - accuracy: 0.9839 - val_loss: 0.8884 - val_accuracy: 0.8718\n",
            "Epoch 221/250\n",
            "31/31 [==============================] - 0s 8ms/step - loss: 0.1049 - accuracy: 0.9806 - val_loss: 0.7086 - val_accuracy: 0.8846\n",
            "Epoch 222/250\n",
            "31/31 [==============================] - 0s 8ms/step - loss: 0.1583 - accuracy: 0.9806 - val_loss: 0.7471 - val_accuracy: 0.8718\n",
            "Epoch 223/250\n",
            "31/31 [==============================] - 0s 8ms/step - loss: 0.1351 - accuracy: 0.9806 - val_loss: 0.7334 - val_accuracy: 0.8846\n",
            "Epoch 224/250\n",
            "31/31 [==============================] - 0s 8ms/step - loss: 0.1168 - accuracy: 0.9742 - val_loss: 0.6643 - val_accuracy: 0.8974\n",
            "Epoch 225/250\n",
            "31/31 [==============================] - 0s 7ms/step - loss: 0.1466 - accuracy: 0.9677 - val_loss: 0.8993 - val_accuracy: 0.8718\n",
            "Epoch 226/250\n",
            "31/31 [==============================] - 0s 8ms/step - loss: 0.1848 - accuracy: 0.9613 - val_loss: 0.6648 - val_accuracy: 0.8590\n",
            "Epoch 227/250\n",
            "31/31 [==============================] - 0s 8ms/step - loss: 0.1289 - accuracy: 0.9774 - val_loss: 0.8930 - val_accuracy: 0.8590\n",
            "Epoch 228/250\n",
            "31/31 [==============================] - 0s 8ms/step - loss: 0.1465 - accuracy: 0.9742 - val_loss: 0.6914 - val_accuracy: 0.9103\n",
            "Epoch 229/250\n",
            "31/31 [==============================] - 0s 8ms/step - loss: 0.1331 - accuracy: 0.9742 - val_loss: 0.5960 - val_accuracy: 0.9103\n",
            "Epoch 230/250\n",
            "31/31 [==============================] - 0s 8ms/step - loss: 0.1768 - accuracy: 0.9613 - val_loss: 0.7569 - val_accuracy: 0.9103\n",
            "Epoch 231/250\n",
            "31/31 [==============================] - 0s 8ms/step - loss: 0.2288 - accuracy: 0.9452 - val_loss: 0.7993 - val_accuracy: 0.8590\n",
            "Epoch 232/250\n",
            "31/31 [==============================] - 0s 8ms/step - loss: 0.1457 - accuracy: 0.9742 - val_loss: 0.7619 - val_accuracy: 0.9103\n",
            "Epoch 233/250\n",
            "31/31 [==============================] - 0s 7ms/step - loss: 0.1194 - accuracy: 0.9871 - val_loss: 0.7619 - val_accuracy: 0.8462\n",
            "Epoch 234/250\n",
            "31/31 [==============================] - 0s 7ms/step - loss: 0.1258 - accuracy: 0.9839 - val_loss: 0.7602 - val_accuracy: 0.8846\n",
            "Epoch 235/250\n",
            "31/31 [==============================] - 0s 7ms/step - loss: 0.1092 - accuracy: 0.9903 - val_loss: 0.7983 - val_accuracy: 0.8974\n",
            "Epoch 236/250\n",
            "31/31 [==============================] - 0s 7ms/step - loss: 0.1261 - accuracy: 0.9839 - val_loss: 0.7804 - val_accuracy: 0.8846\n",
            "Epoch 237/250\n",
            "31/31 [==============================] - 0s 7ms/step - loss: 0.1714 - accuracy: 0.9774 - val_loss: 0.8347 - val_accuracy: 0.8590\n",
            "Epoch 238/250\n",
            "31/31 [==============================] - 0s 8ms/step - loss: 0.1562 - accuracy: 0.9742 - val_loss: 0.6637 - val_accuracy: 0.8846\n",
            "Epoch 239/250\n",
            "31/31 [==============================] - 0s 8ms/step - loss: 0.1352 - accuracy: 0.9774 - val_loss: 0.7778 - val_accuracy: 0.8846\n",
            "Epoch 240/250\n",
            "31/31 [==============================] - 0s 8ms/step - loss: 0.1500 - accuracy: 0.9742 - val_loss: 0.5973 - val_accuracy: 0.8974\n",
            "Epoch 241/250\n",
            "31/31 [==============================] - 0s 8ms/step - loss: 0.1968 - accuracy: 0.9806 - val_loss: 0.6624 - val_accuracy: 0.8718\n",
            "Epoch 242/250\n",
            "31/31 [==============================] - 0s 9ms/step - loss: 0.1152 - accuracy: 0.9903 - val_loss: 0.7064 - val_accuracy: 0.8718\n",
            "Epoch 243/250\n",
            "31/31 [==============================] - 0s 8ms/step - loss: 0.1086 - accuracy: 0.9871 - val_loss: 0.7510 - val_accuracy: 0.8974\n",
            "Epoch 244/250\n",
            "31/31 [==============================] - 0s 8ms/step - loss: 0.1060 - accuracy: 0.9903 - val_loss: 0.7145 - val_accuracy: 0.8974\n",
            "Epoch 245/250\n",
            "31/31 [==============================] - 0s 8ms/step - loss: 0.1176 - accuracy: 0.9839 - val_loss: 0.7092 - val_accuracy: 0.9103\n",
            "Epoch 246/250\n",
            "31/31 [==============================] - 0s 8ms/step - loss: 0.1170 - accuracy: 0.9806 - val_loss: 0.7265 - val_accuracy: 0.8974\n",
            "Epoch 247/250\n",
            "31/31 [==============================] - 0s 8ms/step - loss: 0.1194 - accuracy: 0.9871 - val_loss: 0.7609 - val_accuracy: 0.8846\n",
            "Epoch 248/250\n",
            "31/31 [==============================] - 0s 8ms/step - loss: 0.1265 - accuracy: 0.9774 - val_loss: 0.7283 - val_accuracy: 0.9103\n",
            "Epoch 249/250\n",
            "31/31 [==============================] - 0s 9ms/step - loss: 0.1097 - accuracy: 0.9839 - val_loss: 0.7268 - val_accuracy: 0.9359\n",
            "Epoch 250/250\n",
            "31/31 [==============================] - 0s 9ms/step - loss: 0.1100 - accuracy: 0.9839 - val_loss: 0.7419 - val_accuracy: 0.9231\n"
          ]
        }
      ],
      "source": [
        "early_stop = EarlyStopping(patience=20, verbose=1)\n",
        "history = model2.fit(train_dataset,\n",
        "                    validation_data=val_dataset, epochs=250,\n",
        "                    batch_size=10)"
      ]
    },
    {
      "cell_type": "code",
      "execution_count": 58,
      "metadata": {
        "colab": {
          "base_uri": "https://localhost:8080/"
        },
        "id": "q1BrNczNDv-S",
        "outputId": "fc4e50c6-8af3-451b-847a-5fb37a026586"
      },
      "outputs": [
        {
          "name": "stdout",
          "output_type": "stream",
          "text": [
            "3/3 [==============================] - 0s 7ms/step - loss: 0.6931 - accuracy: 0.9231\n",
            "Val Loss: 0.6931178569793701\n",
            "Val Accuracy: 0.9230769276618958\n"
          ]
        }
      ],
      "source": [
        "#Evaluate model on validation set\n",
        "val_loss, val_acc = model2.evaluate(X_val, y_val)\n",
        "\n",
        "print('Val Loss:', val_loss)\n",
        "print('Val Accuracy:', val_acc)\n"
      ]
    },
    {
      "cell_type": "code",
      "execution_count": 59,
      "metadata": {
        "colab": {
          "base_uri": "https://localhost:8080/"
        },
        "id": "ldcZ_tUoD42e",
        "outputId": "53b12690-6ae6-414d-fd0a-085a052f700d"
      },
      "outputs": [
        {
          "name": "stdout",
          "output_type": "stream",
          "text": [
            "Test Accuracy is: 0.9487179517745972\n"
          ]
        }
      ],
      "source": [
        "nn_accuracy_test = max(history.history['val_accuracy'])\n",
        "print(\"Test Accuracy is:\",nn_accuracy_test)\n"
      ]
    },
    {
      "cell_type": "code",
      "execution_count": 60,
      "metadata": {
        "colab": {
          "base_uri": "https://localhost:8080/"
        },
        "id": "HSTBwoB4EANT",
        "outputId": "2fc281c0-6480-435e-c37e-d64aa37e33e0"
      },
      "outputs": [
        {
          "name": "stdout",
          "output_type": "stream",
          "text": [
            "4/4 [==============================] - 0s 5ms/step - loss: 0.5182 - accuracy: 0.9184\n",
            "Test Loss: 0.5181508660316467\n",
            "Test Accuracy: 0.918367326259613\n"
          ]
        }
      ],
      "source": [
        "# Evaluate model on test set\n",
        "test_loss, test_acc = model2.evaluate(X_test, y_test)\n",
        "\n",
        "print('Test Loss:', test_loss)\n",
        "print('Test Accuracy:', test_acc)"
      ]
    },
    {
      "cell_type": "code",
      "execution_count": 61,
      "metadata": {
        "colab": {
          "base_uri": "https://localhost:8080/",
          "height": 881
        },
        "id": "g2x4AdzKEHmP",
        "outputId": "0a4a24cb-57da-4ef7-fb11-44e196e0b69a"
      },
      "outputs": [
        {
          "data": {
            "image/png": "[encoded data removed]",
            "text/plain": [
              "<Figure size 640x480 with 1 Axes>"
            ]
          },
          "metadata": {},
          "output_type": "display_data"
        },
        {
          "data": {
            "image/png": "[encoded data removed]",
            "text/plain": [
              "<Figure size 640x480 with 1 Axes>"
            ]
          },
          "metadata": {},
          "output_type": "display_data"
        }
      ],
      "source": [
        "# Accuracy vs Epoch\n",
        "plt.plot(history.history['accuracy'], label='Training Accuracy')\n",
        "plt.plot(history.history['val_accuracy'], label='Validation Accuracy')\n",
        "plt.xlabel('Epoch')\n",
        "plt.ylabel('Accuracy')\n",
        "plt.legend()\n",
        "plt.show()\n",
        "\n",
        "# Loss vs Epoch\n",
        "plt.plot(history.history['loss'], label='Training Loss')\n",
        "plt.plot(history.history['val_loss'], label='Validation Loss')\n",
        "plt.xlabel('Epoch')\n",
        "plt.ylabel('Loss')\n",
        "plt.legend()\n",
        "plt.show()"
      ]
    },
    {
      "cell_type": "code",
      "execution_count": 62,
      "metadata": {
        "colab": {
          "base_uri": "https://localhost:8080/"
        },
        "id": "jQm2cWGcEOSH",
        "outputId": "52d06f11-a60a-454e-c5f7-fc7d9343cbed"
      },
      "outputs": [
        {
          "name": "stdout",
          "output_type": "stream",
          "text": [
            "WARNING:tensorflow:AutoGraph could not transform <function Model.make_predict_function.<locals>.predict_function at 0x0000017ACB13FD00> and will run it as-is.\n",
            "Cause: Unable to locate the source code of <function Model.make_predict_function.<locals>.predict_function at 0x0000017ACB13FD00>. Note that functions defined in certain environments, like the interactive Python shell, do not expose their source code. If that is the case, you should define them in a .py source file. If you are certain the code is graph-compatible, wrap the call using @tf.autograph.experimental.do_not_convert. Original error: could not get source code\n",
            "To silence this warning, decorate the function with @tf.autograph.experimental.do_not_convert\n",
            "WARNING: AutoGraph could not transform <function Model.make_predict_function.<locals>.predict_function at 0x0000017ACB13FD00> and will run it as-is.\n",
            "Cause: Unable to locate the source code of <function Model.make_predict_function.<locals>.predict_function at 0x0000017ACB13FD00>. Note that functions defined in certain environments, like the interactive Python shell, do not expose their source code. If that is the case, you should define them in a .py source file. If you are certain the code is graph-compatible, wrap the call using @tf.autograph.experimental.do_not_convert. Original error: could not get source code\n",
            "To silence this warning, decorate the function with @tf.autograph.experimental.do_not_convert\n",
            "4/4 [==============================] - 0s 3ms/step\n"
          ]
        }
      ],
      "source": [
        "import numpy as np\n",
        "\n",
        "y_pred = model2.predict(X_test)\n",
        "\n",
        "y_pred = np.round(y_pred)"
      ]
    },
    {
      "cell_type": "code",
      "execution_count": 63,
      "metadata": {
        "colab": {
          "base_uri": "https://localhost:8080/"
        },
        "id": "bNF1HQzHEddY",
        "outputId": "543c2a5a-2f41-492b-8fee-7bd75840bc7f"
      },
      "outputs": [
        {
          "name": "stdout",
          "output_type": "stream",
          "text": [
            "              precision    recall  f1-score   support\n",
            "\n",
            "           0       1.00      0.82      0.90        44\n",
            "           1       0.87      1.00      0.93        54\n",
            "\n",
            "    accuracy                           0.92        98\n",
            "   macro avg       0.94      0.91      0.92        98\n",
            "weighted avg       0.93      0.92      0.92        98\n",
            "\n"
          ]
        }
      ],
      "source": [
        "from sklearn.metrics import classification_report\n",
        "\n",
        "print(classification_report(y_test, y_pred))\n"
      ]
    },
    {
      "cell_type": "code",
      "execution_count": 64,
      "metadata": {
        "colab": {
          "base_uri": "https://localhost:8080/",
          "height": 472
        },
        "id": "SrfPNGh9El4O",
        "outputId": "47cbdc9b-7a7f-46a9-c2af-f0f98629438b"
      },
      "outputs": [
        {
          "data": {
            "image/png": "[encoded data removed]",
            "text/plain": [
              "<Figure size 640x480 with 1 Axes>"
            ]
          },
          "metadata": {},
          "output_type": "display_data"
        }
      ],
      "source": [
        "import seaborn as sns\n",
        "from sklearn.metrics import confusion_matrix\n",
        "\n",
        "cm = confusion_matrix(y_test, y_pred)\n",
        "\n",
        "sns.heatmap(cm, annot=True, cmap='Blues', fmt='g', cbar=False, annot_kws={\"fontsize\":12})\n",
        "\n",
        "plt.xlabel('Predicted labels')\n",
        "plt.ylabel('True labels')\n",
        "plt.title('Confusion Matrix')\n",
        "\n",
        "plt.show()"
      ]
    },
    {
      "cell_type": "code",
      "execution_count": 65,
      "metadata": {},
      "outputs": [],
      "source": [
        "#save model as h5\n",
        "model2.save('questionnair_v2.h5')"
      ]
    }
  ],
  "metadata": {
    "colab": {
      "provenance": []
    },
    "kernelspec": {
      "display_name": "Python 3",
      "name": "python3"
    },
    "language_info": {
      "codemirror_mode": {
        "name": "ipython",
        "version": 3
      },
      "file_extension": ".py",
      "mimetype": "text/x-python",
      "name": "python",
      "nbconvert_exporter": "python",
      "pygments_lexer": "ipython3",
      "version": "3.10.14"
    }
  },
  "nbformat": 4,
  "nbformat_minor": 0
}
